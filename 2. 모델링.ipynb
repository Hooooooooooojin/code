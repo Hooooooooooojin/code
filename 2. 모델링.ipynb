{
 "cells": [
  {
   "cell_type": "code",
   "execution_count": 1,
   "metadata": {},
   "outputs": [
    {
     "name": "stderr",
     "output_type": "stream",
     "text": [
      "<frozen importlib._bootstrap>:219: RuntimeWarning: numpy.ufunc size changed, may indicate binary incompatibility. Expected 216 from C header, got 232 from PyObject\n"
     ]
    }
   ],
   "source": [
    "import pandas as pd\n",
    "import numpy as np\n",
    "\n",
    "from sklearn.preprocessing import LabelEncoder, MinMaxScaler\n",
    "from sklearn.model_selection import train_test_split\n",
    "\n",
    "from sklearn.metrics import accuracy_score, confusion_matrix, precision_score, recall_score\n",
    "\n",
    "import matplotlib\n",
    "import matplotlib.pyplot as plt\n",
    "import seaborn as sns\n",
    "\n",
    "%matplotlib inline\n",
    "\n",
    "matplotlib.rcParams['font.family'] ='Malgun Gothic'\n",
    "\n",
    "matplotlib.rcParams['axes.unicode_minus'] =False"
   ]
  },
  {
   "cell_type": "markdown",
   "metadata": {},
   "source": [
    "# 1. 최종 데이터 불러오기"
   ]
  },
  {
   "cell_type": "code",
   "execution_count": 23,
   "metadata": {},
   "outputs": [],
   "source": [
    "final_df = pd.read_csv(\"C:/Users/thoma/Desktop/호진/t_academy/ml프로젝트/데이터/final_df.csv\",index_col=0)"
   ]
  },
  {
   "cell_type": "markdown",
   "metadata": {},
   "source": [
    "# 2. 전처리"
   ]
  },
  {
   "cell_type": "markdown",
   "metadata": {},
   "source": [
    "## 2-1. result 이상치, 결측치 제거"
   ]
  },
  {
   "cell_type": "code",
   "execution_count": 24,
   "metadata": {},
   "outputs": [],
   "source": [
    "final_df = final_df.drop(final_df[final_df['result']==0].index)\n",
    "\n",
    "final_df = final_df.dropna()"
   ]
  },
  {
   "cell_type": "markdown",
   "metadata": {},
   "source": [
    "## 2-1. 패스 거리 계산"
   ]
  },
  {
   "cell_type": "code",
   "execution_count": 25,
   "metadata": {},
   "outputs": [],
   "source": [
    "final_df['distance'] = np.sqrt((final_df['x']-final_df['assistX'])**2 + (final_df['y'] -final_df['assistY'])**2)"
   ]
  },
  {
   "cell_type": "code",
   "execution_count": 26,
   "metadata": {},
   "outputs": [],
   "source": [
    "final_df = final_df[['result','goalTime', 'x', 'y', 'type', 'spId', 'spGrade', 'spLevel', 'spIdType',\n",
    "       'assist', 'assistSpId', 'assistX', 'assistY', 'hitPost', 'inPenalty',\n",
    "        'id', 'name', 'season', '포지션', '골 결정력', '슛 파워', '중거리 슛',\n",
    "       '위치 선정', '발리 슛', '페널티 킥', '프리킥', '커브', '볼 컨트롤', '밸런스', '헤더', '점프',\n",
    "       '침착성', 'distance']]"
   ]
  },
  {
   "cell_type": "markdown",
   "metadata": {},
   "source": [
    "상관계수 확인 후 너무 작은 특성들 제거"
   ]
  },
  {
   "cell_type": "code",
   "execution_count": 6,
   "metadata": {},
   "outputs": [
    {
     "data": {
      "text/plain": [
       "spLevel     0.001498\n",
       "spIdType   -0.001643\n",
       "assistY     0.001619\n",
       "중거리 슛       0.000373\n",
       "Name: result, dtype: float64"
      ]
     },
     "execution_count": 6,
     "metadata": {},
     "output_type": "execute_result"
    }
   ],
   "source": [
    "a = final_df.corr()['result']\n",
    "\n",
    "a[(abs(final_df.corr()['result']) < 0.002)==True]"
   ]
  },
  {
   "cell_type": "code",
   "execution_count": 27,
   "metadata": {},
   "outputs": [],
   "source": [
    "low_corr = ['spLevel','spIdType','assistY','중거리 슛']\n",
    "\n",
    "final_df = final_df.drop(low_corr,axis=1)"
   ]
  },
  {
   "cell_type": "markdown",
   "metadata": {},
   "source": [
    "## 2-2. 라벨 인코딩: True of False 값에 대해 0과 1로 라벨 인코딩 진행 "
   ]
  },
  {
   "cell_type": "code",
   "execution_count": 28,
   "metadata": {},
   "outputs": [],
   "source": [
    "\n",
    "label = ['assist','hitPost','inPenalty'] # 어시스트 여부 / 골대 여부 / 페널티 에리어 여부\n",
    "\n",
    "final_df[label] = final_df[label].apply(LabelEncoder().fit_transform)"
   ]
  },
  {
   "cell_type": "markdown",
   "metadata": {},
   "source": [
    "## 2-3. 모델링에 필요 없는 컬럼 제거"
   ]
  },
  {
   "cell_type": "code",
   "execution_count": 29,
   "metadata": {},
   "outputs": [],
   "source": [
    "final_df = final_df.drop(['포지션','spId','id','season','assistSpId','name'],axis=1)"
   ]
  },
  {
   "cell_type": "markdown",
   "metadata": {},
   "source": [
    "## 2-4. 데이터 타입 변환: 정수형을 범주형으로"
   ]
  },
  {
   "cell_type": "code",
   "execution_count": 30,
   "metadata": {},
   "outputs": [],
   "source": [
    "category = ['type','assist','hitPost','inPenalty']\n",
    "\n",
    "for i in category:\n",
    "    \n",
    "    final_df[i] = final_df[i].astype('category')"
   ]
  },
  {
   "cell_type": "markdown",
   "metadata": {},
   "source": [
    "## 2-5. 더미 변수 생성"
   ]
  },
  {
   "cell_type": "code",
   "execution_count": 31,
   "metadata": {},
   "outputs": [],
   "source": [
    "final_df = pd.get_dummies(final_df)"
   ]
  },
  {
   "cell_type": "code",
   "execution_count": 32,
   "metadata": {},
   "outputs": [],
   "source": [
    "final_df['result'] = final_df['result'].astype('category')"
   ]
  },
  {
   "cell_type": "markdown",
   "metadata": {},
   "source": [
    "## 2-6. 수치형 데이터 스케일링"
   ]
  },
  {
   "cell_type": "code",
   "execution_count": 33,
   "metadata": {},
   "outputs": [],
   "source": [
    "scale_list = ['goalTime','x','y','spGrade','assistX','골 결정력', '슛 파워',\n",
    "       '위치 선정', '발리 슛', '페널티 킥', '프리킥', '커브', '볼 컨트롤', '밸런스', '헤더',\n",
    "       '점프', '침착성','distance']\n",
    "\n",
    "mm = MinMaxScaler()\n",
    "\n",
    "mm.fit(final_df[scale_list])\n",
    "\n",
    "final_df[scale_list] = mm.transform(final_df[scale_list])"
   ]
  },
  {
   "cell_type": "markdown",
   "metadata": {},
   "source": [
    "## 2-5. 학습을 위해 필요한 컬럼 처리"
   ]
  },
  {
   "cell_type": "markdown",
   "metadata": {},
   "source": [
    "편의를 위해 컬럼 순서 조정 (result값을 마지막으로)"
   ]
  },
  {
   "cell_type": "code",
   "execution_count": 34,
   "metadata": {},
   "outputs": [],
   "source": [
    "final_df = final_df[['goalTime', 'x', 'y', 'spGrade', 'assistX',\n",
    "       '골 결정력', '슛 파워', '위치 선정', '발리 슛', '페널티 킥',\n",
    "       '프리킥', '커브', '볼 컨트롤', '밸런스', '헤더', '점프', '침착성', 'distance', 'type_1',\n",
    "       'type_2', 'type_3', 'type_4', 'type_5', 'type_6', 'type_7', 'type_8',\n",
    "       'type_9', 'type_10', 'assist_0', 'assist_1', 'hitPost_0', 'hitPost_1',\n",
    "       'inPenalty_0', 'inPenalty_1','result']]"
   ]
  },
  {
   "cell_type": "code",
   "execution_count": 35,
   "metadata": {},
   "outputs": [],
   "source": [
    "final_df.to_csv('for_modeling.csv')"
   ]
  },
  {
   "cell_type": "markdown",
   "metadata": {},
   "source": [
    "# 3. 데이터 셋 분리"
   ]
  },
  {
   "cell_type": "code",
   "execution_count": 15,
   "metadata": {},
   "outputs": [],
   "source": [
    "from sklearn.model_selection import train_test_split\n",
    "\n",
    "X_train, X_test, y_train, y_test = train_test_split(final_df.iloc[:,:-1],final_df['result'],test_size=0.25,stratify=final_df['result'], random_state=1)\n",
    "X_test, X_val, y_test, y_val = train_test_split(X_test, y_test, test_size=0.3, stratify = y_test, random_state=1)"
   ]
  },
  {
   "cell_type": "code",
   "execution_count": 16,
   "metadata": {},
   "outputs": [
    {
     "name": "stdout",
     "output_type": "stream",
     "text": [
      "X_train  (463644, 34)\n",
      "X_test  (108183, 34)\n",
      "X_val  (46365, 34)\n",
      "y_train  (463644,)\n",
      "y_test  (108183,)\n",
      "y_val  (46365,)\n"
     ]
    }
   ],
   "source": [
    "print(\"X_train \", X_train.shape)\n",
    "print(\"X_test \", X_test.shape)\n",
    "print(\"X_val \", X_val.shape)\n",
    "print(\"y_train \", y_train.shape)\n",
    "print(\"y_test \", y_test.shape)\n",
    "print(\"y_val \", y_val.shape)"
   ]
  },
  {
   "cell_type": "markdown",
   "metadata": {},
   "source": [
    "# 4. 모델 생성 및 학습 및 성능 지표"
   ]
  },
  {
   "cell_type": "markdown",
   "metadata": {},
   "source": [
    "## 4-1. Random Forest Classifier"
   ]
  },
  {
   "cell_type": "code",
   "execution_count": 20,
   "metadata": {},
   "outputs": [],
   "source": [
    "from sklearn.ensemble import RandomForestClassifier\n",
    "\n",
    "model1 = RandomForestClassifier(criterion='gini', n_estimators=252, max_depth=63, max_leaf_nodes=994, max_features=33, min_samples_leaf= 18)\n",
    "\n",
    "model1.fit(X_train,y_train)\n",
    "\n",
    "pred1 = model1.predict(X_val)\n",
    "\n",
    "pred1_test = model1.predict(X_test)"
   ]
  },
  {
   "cell_type": "code",
   "execution_count": 47,
   "metadata": {},
   "outputs": [
    {
     "data": {
      "text/plain": [
       "Index(['goalTime', 'x', 'y', 'spGrade', 'spLevel', 'assistX', 'assistY',\n",
       "       '골 결정력', '슛 파워', '중거리 슛', '위치 선정', '발리 슛', '페널티 킥', '프리킥', '커브',\n",
       "       '볼 컨트롤', '밸런스', '헤더', '점프', '침착성', 'distance', 'type_1', 'type_2',\n",
       "       'type_3', 'type_4', 'type_5', 'type_6', 'type_7', 'type_8', 'type_9',\n",
       "       'type_10', 'assist_0', 'assist_1', 'hitPost_0', 'hitPost_1',\n",
       "       'inPenalty_0', 'inPenalty_1'],\n",
       "      dtype='object')"
      ]
     },
     "execution_count": 47,
     "metadata": {},
     "output_type": "execute_result"
    }
   ],
   "source": [
    "X_train.columns"
   ]
  },
  {
   "cell_type": "markdown",
   "metadata": {},
   "source": [
    "Validation Set 성능"
   ]
  },
  {
   "cell_type": "code",
   "execution_count": 23,
   "metadata": {},
   "outputs": [
    {
     "name": "stdout",
     "output_type": "stream",
     "text": [
      "Accuracy Score of RandomForest Classifier =  0.5818181818181818\n",
      "precision_score of RandomForest Classifier =  0.5728132041183612\n",
      "recall_score of RandomForest Classifier =  0.5344197678149994\n"
     ]
    }
   ],
   "source": [
    "print(\"Accuracy Score of RandomForest Classifier = \", accuracy_score(y_val, pred1))\n",
    "print(\"precision_score of RandomForest Classifier = \", precision_score(y_val, pred1, average='macro'))\n",
    "print(\"recall_score of RandomForest Classifier = \", recall_score(y_val, pred1, average='macro'))"
   ]
  },
  {
   "cell_type": "markdown",
   "metadata": {},
   "source": [
    "Test Set 성능"
   ]
  },
  {
   "cell_type": "code",
   "execution_count": 24,
   "metadata": {},
   "outputs": [
    {
     "name": "stdout",
     "output_type": "stream",
     "text": [
      "Accuracy Score of RandomForest Classifier =  0.5800264366859857\n",
      "precision_score of RandomForest Classifier =  0.5714041288208771\n",
      "recall_score of RandomForest Classifier =  0.5324541563174906\n"
     ]
    }
   ],
   "source": [
    "print(\"Accuracy Score of RandomForest Classifier = \", accuracy_score(y_test, pred1_test))\n",
    "print(\"precision_score of RandomForest Classifier = \", precision_score(y_test, pred1_test, average='macro'))\n",
    "print(\"recall_score of RandomForest Classifier = \", recall_score(y_test, pred1_test, average='macro'))"
   ]
  },
  {
   "cell_type": "markdown",
   "metadata": {},
   "source": [
    "Feature Importance"
   ]
  },
  {
   "cell_type": "code",
   "execution_count": 25,
   "metadata": {},
   "outputs": [
    {
     "data": {
      "image/png": "[encoded data removed]",
      "text/plain": [
       "<Figure size 576x432 with 1 Axes>"
      ]
     },
     "metadata": {
      "needs_background": "light"
     },
     "output_type": "display_data"
    }
   ],
   "source": [
    "ftr_importances_values = model1.feature_importances_\n",
    "ftr_importances = pd.Series(ftr_importances_values, index = X_train.columns)\n",
    "ftr_top20 = ftr_importances.sort_values(ascending=False)[:len(X_train.columns)]\n",
    "\n",
    "plt.figure(figsize=(8,6))\n",
    "plt.title('Top 20 Feature Importances')\n",
    "sns.barplot(x=ftr_top20, y=ftr_top20.index)\n",
    "plt.show()"
   ]
  },
  {
   "cell_type": "markdown",
   "metadata": {},
   "source": [
    "## 4-2. XGBoost Classifier"
   ]
  },
  {
   "cell_type": "code",
   "execution_count": 18,
   "metadata": {},
   "outputs": [],
   "source": [
    "from xgboost import XGBClassifier\n",
    "\n",
    "model2 = XGBClassifier(booster='gbtree', n_estimators= 106, learning_rate=0.027187649961799516, max_depth=33, subsample=0.9, colsample_bytree=0.7000000000000001, colsample_bylevel=0.865584471569699, colsample_bynode=0.8851539508192925, reg_alpha=0.01363225382508013, reg_lambda=0.05583158097593165, min_child_weight=4, gamma=0.10848813150330286)\n",
    "\n",
    "le = LabelEncoder()\n",
    "\n",
    "y_train = le.fit_transform(y_train)\n",
    "\n",
    "model2.fit(X_train, y_train)\n",
    "\n",
    "pred2_val = model2.predict(X_val)\n",
    "\n",
    "pred2_test = model2.predict(X_test)"
   ]
  },
  {
   "cell_type": "markdown",
   "metadata": {},
   "source": [
    "Feature Importance"
   ]
  },
  {
   "cell_type": "code",
   "execution_count": 19,
   "metadata": {},
   "outputs": [
    {
     "data": {
      "image/png": "[encoded data removed]",
      "text/plain": [
       "<Figure size 576x432 with 1 Axes>"
      ]
     },
     "metadata": {
      "needs_background": "light"
     },
     "output_type": "display_data"
    }
   ],
   "source": [
    "ftr_importances_values = model2.feature_importances_\n",
    "ftr_importances = pd.Series(ftr_importances_values, index = X_train.columns)\n",
    "ftr_top = ftr_importances.sort_values(ascending=False)[:len(X_train.columns)]\n",
    "\n",
    "plt.figure(figsize=(8,6))\n",
    "plt.title('Top Feature Importances')\n",
    "sns.barplot(x=ftr_top, y=ftr_top.index)\n",
    "plt.show()"
   ]
  },
  {
   "cell_type": "markdown",
   "metadata": {},
   "source": [
    "### Feature Importance가 우리의 모델에 적합하지 않으므로 해당 모델 배제"
   ]
  },
  {
   "cell_type": "markdown",
   "metadata": {},
   "source": [
    "Validation Set 성능"
   ]
  },
  {
   "cell_type": "code",
   "execution_count": 20,
   "metadata": {},
   "outputs": [
    {
     "name": "stdout",
     "output_type": "stream",
     "text": [
      "Accuracy Score of XGB Classifier =  0.6110212444732017\n",
      "precision_score of XGB Classifier =  0.6094564068835719\n",
      "recall_score of XGB Classifier =  0.5684097090632411\n"
     ]
    }
   ],
   "source": [
    "le = LabelEncoder()\n",
    "y_val = le.fit_transform(y_val)\n",
    "\n",
    "print(\"Accuracy Score of XGB Classifier = \", accuracy_score(y_val, pred2_val))\n",
    "print(\"precision_score of XGB Classifier = \", precision_score(y_val, pred2_val, average='macro'))\n",
    "print(\"recall_score of XGB Classifier = \", recall_score(y_val, pred2_val, average='macro'))"
   ]
  },
  {
   "cell_type": "markdown",
   "metadata": {},
   "source": [
    "Test Set 성능"
   ]
  },
  {
   "cell_type": "code",
   "execution_count": 21,
   "metadata": {},
   "outputs": [
    {
     "name": "stdout",
     "output_type": "stream",
     "text": [
      "Accuracy Score of XGB Classifier =  0.6119538189918934\n",
      "precision_score of XGB Classifier =  0.6105900438822928\n",
      "recall_score of XGB Classifier =  0.5692873198594652\n"
     ]
    }
   ],
   "source": [
    "le = LabelEncoder()\n",
    "y_test = le.fit_transform(y_test)\n",
    "\n",
    "print(\"Accuracy Score of XGB Classifier = \", accuracy_score(y_test, pred2_test))\n",
    "print(\"precision_score of XGB Classifier = \", precision_score(y_test, pred2_test, average='macro'))\n",
    "print(\"recall_score of XGB Classifier = \", recall_score(y_test, pred2_test, average='macro'))"
   ]
  },
  {
   "cell_type": "markdown",
   "metadata": {},
   "source": [
    "## 4-3. Lightgbm Classifier"
   ]
  },
  {
   "cell_type": "code",
   "execution_count": 32,
   "metadata": {
    "scrolled": true
   },
   "outputs": [
    {
     "name": "stdout",
     "output_type": "stream",
     "text": [
      "[LightGBM] [Warning] feature_fraction is set=0.7562132055169477, colsample_bytree=0.55 will be ignored. Current value: feature_fraction=0.7562132055169477\n",
      "[LightGBM] [Warning] lambda_l1 is set=0.00011779203373800329, reg_alpha=0.050241390899868774 will be ignored. Current value: lambda_l1=0.00011779203373800329\n",
      "[LightGBM] [Warning] bagging_fraction is set=0.723673336137023, subsample=0.95 will be ignored. Current value: bagging_fraction=0.723673336137023\n",
      "[LightGBM] [Warning] lambda_l2 is set=2.851082424059612, reg_lambda=0.0 will be ignored. Current value: lambda_l2=2.851082424059612\n",
      "[LightGBM] [Warning] bagging_freq is set=7, subsample_freq=23 will be ignored. Current value: bagging_freq=7\n"
     ]
    }
   ],
   "source": [
    "import lightgbm as lgb\n",
    "\n",
    "model3 = lgb.LGBMClassifier(boosting_type='gbdt',\n",
    " learning_rate=0.09002141442858189,\n",
    " num_leaves=221,\n",
    " n_estimators=474,\n",
    " feature_fraction=0.7562132055169477,\n",
    " bagging_fraction=0.723673336137023,\n",
    " bagging_freq=7,\n",
    " max_depth=13,\n",
    " reg_alpha=0.050241390899868774,\n",
    " subsample=0.95,\n",
    " subsample_freq=23,\n",
    " colsample_bytree=0.55,\n",
    " min_child_samples=16,\n",
    "lambda_l1=0.00011779203373800329,lambda_l2=2.851082424059612)\n",
    "\n",
    "model3.fit(X_train, y_train)\n",
    "\n",
    "pred3_val = model3.predict(X_val)\n",
    "\n",
    "pred3_test = model3.predict(X_test)"
   ]
  },
  {
   "cell_type": "markdown",
   "metadata": {},
   "source": [
    "Validation Set 성능"
   ]
  },
  {
   "cell_type": "code",
   "execution_count": 33,
   "metadata": {},
   "outputs": [
    {
     "name": "stdout",
     "output_type": "stream",
     "text": [
      "Accuracy Score of LGBM Classifier =  0.5856572845896689\n",
      "precision_score of LGBM Classifier =  0.5773871537952632\n",
      "recall_score of LGBM Classifier =  0.5408270936708287\n"
     ]
    }
   ],
   "source": [
    "print(\"Accuracy Score of LGBM Classifier = \", accuracy_score(y_val, pred3_val))\n",
    "print(\"precision_score of LGBM Classifier = \", precision_score(y_val, pred3_val, average='macro'))\n",
    "print(\"recall_score of LGBM Classifier = \", recall_score(y_val, pred3_val, average='macro'))"
   ]
  },
  {
   "cell_type": "markdown",
   "metadata": {},
   "source": [
    "Test Set 성능"
   ]
  },
  {
   "cell_type": "code",
   "execution_count": 34,
   "metadata": {},
   "outputs": [
    {
     "name": "stdout",
     "output_type": "stream",
     "text": [
      "Accuracy Score of LGBM Classifier =  0.5885120582716323\n",
      "precision_score of LGBM Classifier =  0.5812686665786139\n",
      "recall_score of LGBM Classifier =  0.5432779550788519\n"
     ]
    }
   ],
   "source": [
    "print(\"Accuracy Score of LGBM Classifier = \", accuracy_score(y_test, pred3_test))\n",
    "print(\"precision_score of LGBM Classifier = \", precision_score(y_test, pred3_test, average='macro'))\n",
    "print(\"recall_score of LGBM Classifier = \", recall_score(y_test, pred3_test, average='macro'))"
   ]
  },
  {
   "cell_type": "markdown",
   "metadata": {},
   "source": [
    "Feature Importance"
   ]
  },
  {
   "cell_type": "code",
   "execution_count": 35,
   "metadata": {},
   "outputs": [
    {
     "data": {
      "image/png": "[encoded data removed]",
      "text/plain": [
       "<Figure size 576x432 with 1 Axes>"
      ]
     },
     "metadata": {
      "needs_background": "light"
     },
     "output_type": "display_data"
    }
   ],
   "source": [
    "ftr_importances_values = model3.feature_importances_\n",
    "ftr_importances = pd.Series(ftr_importances_values, index = X_train.columns)\n",
    "ftr_top20 = ftr_importances.sort_values(ascending=False)[:len(X_train.columns)]\n",
    "\n",
    "plt.figure(figsize=(8,6))\n",
    "plt.title('Top 20 Feature Importances')\n",
    "sns.barplot(x=ftr_top20, y=ftr_top20.index)\n",
    "plt.show()"
   ]
  },
  {
   "cell_type": "markdown",
   "metadata": {},
   "source": [
    "## 4-4. AdaBoost Classifier"
   ]
  },
  {
   "cell_type": "code",
   "execution_count": 36,
   "metadata": {},
   "outputs": [],
   "source": [
    "from sklearn.ensemble import AdaBoostClassifier\n",
    "\n",
    "model4 = AdaBoostClassifier(n_estimators=467, learning_rate=0.098120551302354)\n",
    "\n",
    "model4.fit(X_train,y_train)\n",
    "\n",
    "pred4_val = model4.predict(X_val)\n",
    "\n",
    "pred4_test = model4.predict(X_test)"
   ]
  },
  {
   "cell_type": "markdown",
   "metadata": {},
   "source": [
    "Validation Set 성능"
   ]
  },
  {
   "cell_type": "code",
   "execution_count": 37,
   "metadata": {
    "scrolled": true
   },
   "outputs": [
    {
     "name": "stdout",
     "output_type": "stream",
     "text": [
      "Accuracy Score of AdaBoostClassifier =  0.5450447535856788\n",
      "precision_score of AdaBoostClassifier =  0.5494628538637562\n",
      "recall_score of AdaBoostClassifier =  0.49078215078939696\n"
     ]
    }
   ],
   "source": [
    "print(\"Accuracy Score of AdaBoostClassifier = \", accuracy_score(y_val, pred4_val))\n",
    "print(\"precision_score of AdaBoostClassifier = \", precision_score(y_val, pred4_val, average='macro'))\n",
    "print(\"recall_score of AdaBoostClassifier = \", recall_score(y_val, pred4_val, average='macro'))"
   ]
  },
  {
   "cell_type": "markdown",
   "metadata": {},
   "source": [
    "Test Set 성능"
   ]
  },
  {
   "cell_type": "code",
   "execution_count": 38,
   "metadata": {
    "scrolled": true
   },
   "outputs": [
    {
     "name": "stdout",
     "output_type": "stream",
     "text": [
      "Accuracy Score of AdaBoostClassifier =  0.545159590693547\n",
      "precision_score of AdaBoostClassifier =  0.5481044344348168\n",
      "recall_score of AdaBoostClassifier =  0.4895506083785058\n"
     ]
    }
   ],
   "source": [
    "print(\"Accuracy Score of AdaBoostClassifier = \", accuracy_score(y_test, pred4_test))\n",
    "print(\"precision_score of AdaBoostClassifier = \", precision_score(y_test, pred4_test, average='macro'))\n",
    "print(\"recall_score of AdaBoostClassifier = \", recall_score(y_test, pred4_test, average='macro'))"
   ]
  },
  {
   "cell_type": "markdown",
   "metadata": {},
   "source": [
    "Feature Importance"
   ]
  },
  {
   "cell_type": "code",
   "execution_count": 40,
   "metadata": {},
   "outputs": [
    {
     "data": {
      "image/png": "[encoded data removed]",
      "text/plain": [
       "<Figure size 576x432 with 1 Axes>"
      ]
     },
     "metadata": {
      "needs_background": "light"
     },
     "output_type": "display_data"
    }
   ],
   "source": [
    "ftr_importances_values = model3.feature_importances_\n",
    "ftr_importances = pd.Series(ftr_importances_values, index = X_train.columns)\n",
    "ftr_top = ftr_importances.sort_values(ascending=False)[:len(X_train.columns)]\n",
    "\n",
    "plt.figure(figsize=(8,6))\n",
    "plt.title('Top Feature Importances')\n",
    "sns.barplot(x=ftr_top, y=ftr_top.index)\n",
    "plt.show()"
   ]
  },
  {
   "cell_type": "markdown",
   "metadata": {},
   "source": [
    "## 4-5. Voting Classifier"
   ]
  },
  {
   "cell_type": "code",
   "execution_count": 44,
   "metadata": {},
   "outputs": [
    {
     "name": "stdout",
     "output_type": "stream",
     "text": [
      "[LightGBM] [Warning] feature_fraction is set=0.7562132055169477, colsample_bytree=0.55 will be ignored. Current value: feature_fraction=0.7562132055169477\n",
      "[LightGBM] [Warning] lambda_l1 is set=0.00011779203373800329, reg_alpha=0.050241390899868774 will be ignored. Current value: lambda_l1=0.00011779203373800329\n",
      "[LightGBM] [Warning] bagging_fraction is set=0.723673336137023, subsample=0.95 will be ignored. Current value: bagging_fraction=0.723673336137023\n",
      "[LightGBM] [Warning] lambda_l2 is set=2.851082424059612, reg_lambda=0.0 will be ignored. Current value: lambda_l2=2.851082424059612\n",
      "[LightGBM] [Warning] bagging_freq is set=7, subsample_freq=23 will be ignored. Current value: bagging_freq=7\n"
     ]
    }
   ],
   "source": [
    "from sklearn.ensemble import VotingClassifier\n",
    "\n",
    "vc = VotingClassifier(estimators=[('rf',model1),('xg',model2),('lg',model3)],voting='soft')\n",
    "\n",
    "vc.fit(X_train, y_train)\n",
    "\n",
    "pred5_val = vc.predict(X_val)\n",
    "\n",
    "pred5_test = vc.predict(X_test)"
   ]
  },
  {
   "cell_type": "code",
   "execution_count": 46,
   "metadata": {},
   "outputs": [
    {
     "name": "stdout",
     "output_type": "stream",
     "text": [
      "Accuracy Score of AdaBoostClassifier =  0.5992451202415615\n",
      "precision_score of AdaBoostClassifier =  0.5970278471941008\n",
      "recall_score of AdaBoostClassifier =  0.55233721230364\n"
     ]
    }
   ],
   "source": [
    "print(\"Accuracy Score of AdaBoostClassifier = \", accuracy_score(y_val, pred5_val))\n",
    "print(\"precision_score of AdaBoostClassifier = \", precision_score(y_val, pred5_val, average='macro'))\n",
    "print(\"recall_score of AdaBoostClassifier = \", recall_score(y_val, pred5_val, average='macro'))"
   ]
  },
  {
   "cell_type": "code",
   "execution_count": 45,
   "metadata": {},
   "outputs": [
    {
     "name": "stdout",
     "output_type": "stream",
     "text": [
      "Accuracy Score of Voting Classifier =  0.6011942726676095\n",
      "precision_score of Voting Classifier =  0.5995642914269832\n",
      "recall_score of Voting Classifier =  0.5540039842388199\n"
     ]
    }
   ],
   "source": [
    "print(\"Accuracy Score of Voting Classifier = \", accuracy_score(y_test, pred5_test))\n",
    "print(\"precision_score of Voting Classifier = \", precision_score(y_test, pred5_test, average='macro'))\n",
    "print(\"recall_score of Voting Classifier = \", recall_score(y_test, pred5_test, average='macro'))"
   ]
  }
 ],
 "metadata": {
  "kernelspec": {
   "display_name": "Python 3.8.5 ('base': conda)",
   "language": "python",
   "name": "python3"
  },
  "language_info": {
   "codemirror_mode": {
    "name": "ipython",
    "version": 3
   },
   "file_extension": ".py",
   "mimetype": "text/x-python",
   "name": "python",
   "nbconvert_exporter": "python",
   "pygments_lexer": "ipython3",
   "version": "3.8.5 (default, Sep  3 2020, 21:29:08) [MSC v.1916 64 bit (AMD64)]"
  },
  "vscode": {
   "interpreter": {
    "hash": "ca9c90c9b299e3c35d28bc96236d8f2c0bd3d51256cb5ad616950692d4a1a879"
   }
  }
 },
 "nbformat": 4,
 "nbformat_minor": 4
}
