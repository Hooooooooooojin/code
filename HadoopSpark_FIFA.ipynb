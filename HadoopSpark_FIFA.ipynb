{
 "cells": [
  {
   "cell_type": "code",
   "execution_count": 1,
   "id": "325c4815",
   "metadata": {},
   "outputs": [],
   "source": [
    "from pyspark.sql import  SQLContext \n",
    "from pyspark import SparkContext\n",
    "\n",
    "from pyspark.ml.classification import LogisticRegression\n",
    "from pyspark.ml.feature import VectorAssembler\n",
    "from pyspark.ml.evaluation import MulticlassClassificationEvaluator\n",
    "\n",
    "import matplotlib.pyplot as plt\n",
    "import matplotlib\n",
    "import pandas as pd\n",
    "\n",
    "matplotlib.rcParams['font.family'] = 'Malgun Gothic'\n",
    "matplotlib.rcParams['axes.unicode_minus'] = False"
   ]
  },
  {
   "cell_type": "code",
   "execution_count": 2,
   "id": "fc2d55ff",
   "metadata": {},
   "outputs": [],
   "source": [
    "from pyspark.sql import Row, SparkSession\n",
    "\n",
    "from pyspark.sql.functions import when,udf,col,regexp_replace\n",
    "import pyspark.sql.functions as f\n",
    "from pyspark.sql.types import DoubleType,IntegerType,StringType"
   ]
  },
  {
   "cell_type": "code",
   "execution_count": 3,
   "id": "0a30712c",
   "metadata": {},
   "outputs": [],
   "source": [
    "import matplotlib.pyplot as plt\n",
    "import numpy as np"
   ]
  },
  {
   "cell_type": "code",
   "execution_count": 4,
   "id": "a5d3e2ed",
   "metadata": {
    "scrolled": true
   },
   "outputs": [
    {
     "name": "stderr",
     "output_type": "stream",
     "text": [
      "/home/mobile/spark-3.3.1-bin-hadoop2/conf/spark-env.sh: line 7: 2: command not found\n",
      "Setting default log level to \"WARN\".\n",
      "To adjust logging level use sc.setLogLevel(newLevel). For SparkR, use setLogLevel(newLevel).\n"
     ]
    },
    {
     "name": "stdout",
     "output_type": "stream",
     "text": [
      "22/12/24 22:48:39 WARN NativeCodeLoader: Unable to load native-hadoop library for your platform... using builtin-java classes where applicable\n"
     ]
    },
    {
     "name": "stderr",
     "output_type": "stream",
     "text": [
      "/home/mobile/spark-3.3.1-bin-hadoop2/python/pyspark/sql/context.py:112: FutureWarning: Deprecated in 3.0.0. Use SparkSession.builder.getOrCreate() instead.\n",
      "  warnings.warn(\n"
     ]
    }
   ],
   "source": [
    "sc = SparkContext('local')\n",
    "sqlctx = SQLContext(sc)"
   ]
  },
  {
   "cell_type": "markdown",
   "id": "1eeb202d",
   "metadata": {},
   "source": [
    "# 데이터 읽기"
   ]
  },
  {
   "cell_type": "code",
   "execution_count": 5,
   "id": "dd173c89",
   "metadata": {},
   "outputs": [
    {
     "name": "stderr",
     "output_type": "stream",
     "text": [
      "                                                                                \r"
     ]
    }
   ],
   "source": [
    "fifa_df = sqlctx.read.csv( '/home/mobile/Desktop/data/final_df.csv',encoding='utf-8', header=True, inferSchema=True)"
   ]
  },
  {
   "cell_type": "code",
   "execution_count": 6,
   "id": "927e835d",
   "metadata": {},
   "outputs": [
    {
     "name": "stdout",
     "output_type": "stream",
     "text": [
      "22/12/24 22:48:56 WARN package: Truncated the string representation of a plan since it was too large. This behavior can be adjusted by setting 'spark.sql.debug.maxToStringFields'.\n",
      "22/12/24 22:48:57 WARN CSVHeaderChecker: CSV header does not conform to the schema.\n",
      " Header: , goalTime, x, y, type, spId, spGrade, spLevel, spIdType, assist, assistSpId, assistX, assistY, hitPost, inPenalty, result, id, name, season, 포지션, 골 결정력, 슛 파워, 중거리 슛, 위치 선정, 발리 슛, 페널티 킥, 프리킥, 커브, 볼 컨트롤, 밸런스, 헤더, 점프, 침착성\n",
      " Schema: _c0, goalTime, x, y, type, spId, spGrade, spLevel, spIdType, assist, assistSpId, assistX, assistY, hitPost, inPenalty, result, id, name, season, 포지션, 골 결정력, 슛 파워, 중거리 슛, 위치 선정, 발리 슛, 페널티 킥, 프리킥, 커브, 볼 컨트롤, 밸런스, 헤더, 점프, 침착성\n",
      "Expected: _c0 but found: \n",
      "CSV file: file:///home/mobile/Desktop/data/final_df.csv\n"
     ]
    },
    {
     "data": {
      "text/plain": [
       "Row(_c0=0, goalTime=1883, x=0.9221178293228148, y=0.3964051008224487, type=6, spId=257243061, spGrade=6, spLevel=5, spIdType=True, assist=True, assistSpId=225242881, assistX=0.8373380303382874, assistY=0.312536895275116, hitPost=False, inPenalty=True, result=2, id=257243061.0, name='이동준', season='21 K-League Best', 포지션='RW', 골 결정력=103.0, 슛 파워=97.0, 중거리 슛=87.0, 위치 선정=106.0, 발리 슛=87.0, 페널티 킥=87.0, 프리킥=83.0, 커브=91.0, 볼 컨트롤=98.0, 밸런스=104.0, 헤더=88.0, 점프=95.0, 침착성=96.0)"
      ]
     },
     "execution_count": 6,
     "metadata": {},
     "output_type": "execute_result"
    }
   ],
   "source": [
    "fifa_df.head()"
   ]
  },
  {
   "cell_type": "code",
   "execution_count": 7,
   "id": "5128915a",
   "metadata": {},
   "outputs": [
    {
     "name": "stdout",
     "output_type": "stream",
     "text": [
      "root\n",
      " |-- _c0: integer (nullable = true)\n",
      " |-- goalTime: integer (nullable = true)\n",
      " |-- x: double (nullable = true)\n",
      " |-- y: double (nullable = true)\n",
      " |-- type: integer (nullable = true)\n",
      " |-- spId: integer (nullable = true)\n",
      " |-- spGrade: integer (nullable = true)\n",
      " |-- spLevel: integer (nullable = true)\n",
      " |-- spIdType: boolean (nullable = true)\n",
      " |-- assist: boolean (nullable = true)\n",
      " |-- assistSpId: integer (nullable = true)\n",
      " |-- assistX: double (nullable = true)\n",
      " |-- assistY: double (nullable = true)\n",
      " |-- hitPost: boolean (nullable = true)\n",
      " |-- inPenalty: boolean (nullable = true)\n",
      " |-- result: integer (nullable = true)\n",
      " |-- id: double (nullable = true)\n",
      " |-- name: string (nullable = true)\n",
      " |-- season: string (nullable = true)\n",
      " |-- 포지션: string (nullable = true)\n",
      " |-- 골 결정력: double (nullable = true)\n",
      " |-- 슛 파워: double (nullable = true)\n",
      " |-- 중거리 슛: double (nullable = true)\n",
      " |-- 위치 선정: double (nullable = true)\n",
      " |-- 발리 슛: double (nullable = true)\n",
      " |-- 페널티 킥: double (nullable = true)\n",
      " |-- 프리킥: double (nullable = true)\n",
      " |-- 커브: double (nullable = true)\n",
      " |-- 볼 컨트롤: double (nullable = true)\n",
      " |-- 밸런스: double (nullable = true)\n",
      " |-- 헤더: double (nullable = true)\n",
      " |-- 점프: double (nullable = true)\n",
      " |-- 침착성: double (nullable = true)\n",
      "\n"
     ]
    }
   ],
   "source": [
    "fifa_df.printSchema()"
   ]
  },
  {
   "cell_type": "markdown",
   "id": "fe55fe0c",
   "metadata": {},
   "source": [
    "# 데이터 전처리"
   ]
  },
  {
   "cell_type": "markdown",
   "id": "93ca5abd",
   "metadata": {},
   "source": [
    "1. 결측치 제거 전 후 데이터 개수: 622691 => 61892"
   ]
  },
  {
   "cell_type": "code",
   "execution_count": 8,
   "id": "5bb4397a",
   "metadata": {
    "scrolled": true
   },
   "outputs": [
    {
     "name": "stderr",
     "output_type": "stream",
     "text": [
      "                                                                                \r"
     ]
    }
   ],
   "source": [
    "befor_cnt = fifa_df.count() # 622961"
   ]
  },
  {
   "cell_type": "code",
   "execution_count": 9,
   "id": "5cdc3195",
   "metadata": {},
   "outputs": [
    {
     "name": "stdout",
     "output_type": "stream",
     "text": [
      "22/12/24 22:48:59 WARN CSVHeaderChecker: CSV header does not conform to the schema.\n",
      " Header: , goalTime, x, y, type, spId, spGrade, spLevel, spIdType, assist, assistSpId, assistX, assistY, hitPost, inPenalty, result, id, name, season, 포지션, 골 결정력, 슛 파워, 중거리 슛, 위치 선정, 발리 슛, 페널티 킥, 프리킥, 커브, 볼 컨트롤, 밸런스, 헤더, 점프, 침착성\n",
      " Schema: _c0, goalTime, x, y, type, spId, spGrade, spLevel, spIdType, assist, assistSpId, assistX, assistY, hitPost, inPenalty, result, id, name, season, 포지션, 골 결정력, 슛 파워, 중거리 슛, 위치 선정, 발리 슛, 페널티 킥, 프리킥, 커브, 볼 컨트롤, 밸런스, 헤더, 점프, 침착성\n",
      "Expected: _c0 but found: \n",
      "CSV file: file:///home/mobile/Desktop/data/final_df.csv\n"
     ]
    },
    {
     "name": "stderr",
     "output_type": "stream",
     "text": [
      "                                                                                \r"
     ]
    }
   ],
   "source": [
    "fifa_df = fifa_df.dropna() \n",
    "\n",
    "after_cnt = fifa_df.count() # 618192"
   ]
  },
  {
   "cell_type": "code",
   "execution_count": 10,
   "id": "05a4b8cd",
   "metadata": {
    "scrolled": true
   },
   "outputs": [
    {
     "name": "stderr",
     "output_type": "stream",
     "text": [
      "findfont: Font family ['Malgun Gothic'] not found. Falling back to DejaVu Sans.\n"
     ]
    },
    {
     "data": {
      "image/png": "[encoded data removed]",
      "text/plain": [
       "<Figure size 1000x600 with 1 Axes>"
      ]
     },
     "metadata": {},
     "output_type": "display_data"
    }
   ],
   "source": [
    "plt.figure(figsize=(10,6))\n",
    "\n",
    "x = ['before_dropna','after_dropna']\n",
    "y = [befor_cnt, after_cnt]\n",
    "colors = ['black','silver']\n",
    "plt.bar(x, y, width = 0.4, color = colors)\n",
    "\n",
    "plt.ylim([600000,640000])\n",
    "\n",
    "plt.show()"
   ]
  },
  {
   "cell_type": "markdown",
   "id": "b553e504",
   "metadata": {},
   "source": [
    "2. 파생 변수 생성"
   ]
  },
  {
   "cell_type": "code",
   "execution_count": 11,
   "id": "857b7043",
   "metadata": {},
   "outputs": [],
   "source": [
    "fifa_df = fifa_df.withColumn('점핑 헤더',(fifa_df['점프']+fifa_df['헤더'])/2)"
   ]
  },
  {
   "cell_type": "code",
   "execution_count": 12,
   "id": "56504935",
   "metadata": {},
   "outputs": [],
   "source": [
    "fifa_df = fifa_df.drop('점프','헤더')"
   ]
  },
  {
   "cell_type": "markdown",
   "id": "8921be3a",
   "metadata": {},
   "source": [
    "3. 삼진분류 -> 이진분류"
   ]
  },
  {
   "cell_type": "code",
   "execution_count": 13,
   "id": "f536d11f",
   "metadata": {},
   "outputs": [],
   "source": [
    "ff = udf(lambda v:0 if v==1 or v==2 else 1)\n",
    "\n",
    "# result = 1 or 2: No Goal\n",
    "# result = 3: Goal"
   ]
  },
  {
   "cell_type": "code",
   "execution_count": 14,
   "id": "7d2d362c",
   "metadata": {},
   "outputs": [],
   "source": [
    "fifa_df = fifa_df.withColumn('result',ff(fifa_df['result']))"
   ]
  },
  {
   "cell_type": "markdown",
   "id": "8d84d8f3",
   "metadata": {},
   "source": [
    "4. 슈팅 타입별 결과 분포"
   ]
  },
  {
   "cell_type": "code",
   "execution_count": 15,
   "id": "42b005b1",
   "metadata": {},
   "outputs": [],
   "source": [
    "# 1: normal\n",
    "# 2: finesse\n",
    "# 3: header\n",
    "# 4: lob(로빙)\n",
    "# 5: flare(플레어슛)\n",
    "# 6: low(낮은슛)\n",
    "# 7: volley\n",
    "# 8: free-kick\n",
    "# 9: penalty\n",
    "# 10: knuckle(무회전)"
   ]
  },
  {
   "cell_type": "code",
   "execution_count": 16,
   "id": "00ed1848",
   "metadata": {
    "scrolled": true
   },
   "outputs": [
    {
     "name": "stderr",
     "output_type": "stream",
     "text": [
      "[Stage 9:>                                                          (0 + 1) / 2]\r"
     ]
    },
    {
     "name": "stdout",
     "output_type": "stream",
     "text": [
      "22/12/24 22:49:08 WARN CSVHeaderChecker: CSV header does not conform to the schema.\n",
      " Header: , goalTime, x, y, type, spId, spGrade, spLevel, spIdType, assist, assistSpId, assistX, assistY, hitPost, inPenalty, result, id, name, season, 포지션, 골 결정력, 슛 파워, 중거리 슛, 위치 선정, 발리 슛, 페널티 킥, 프리킥, 커브, 볼 컨트롤, 밸런스, 헤더, 점프, 침착성\n",
      " Schema: _c0, goalTime, x, y, type, spId, spGrade, spLevel, spIdType, assist, assistSpId, assistX, assistY, hitPost, inPenalty, result, id, name, season, 포지션, 골 결정력, 슛 파워, 중거리 슛, 위치 선정, 발리 슛, 페널티 킥, 프리킥, 커브, 볼 컨트롤, 밸런스, 헤더, 점프, 침착성\n",
      "Expected: _c0 but found: \n",
      "CSV file: file:///home/mobile/Desktop/data/final_df.csv\n"
     ]
    },
    {
     "name": "stderr",
     "output_type": "stream",
     "text": [
      "[Stage 9:=============================>                             (1 + 1) / 2]\r"
     ]
    },
    {
     "name": "stdout",
     "output_type": "stream",
     "text": [
      "+----+------+-------+\n",
      "|type|result|슈팅 수|\n",
      "+----+------+-------+\n",
      "|   1|     0| 123669|\n",
      "|   1|     1|  40819|\n",
      "|   2|     0| 116560|\n",
      "|   2|     1|  63724|\n",
      "|   3|     0|  43235|\n",
      "|   3|     1|  13605|\n",
      "|   4|     0|   2697|\n",
      "|   4|     1|   1112|\n",
      "|   5|     0|      5|\n",
      "|   6|     0|  93825|\n",
      "|   6|     1|  76156|\n",
      "|   7|     0|  10822|\n",
      "|   7|     1|   7313|\n",
      "|   8|     0|   7048|\n",
      "|   8|     1|   1013|\n",
      "|   9|     0|   1728|\n",
      "|   9|     1|   5221|\n",
      "|  10|     0|   7975|\n",
      "|  10|     1|   1665|\n",
      "+----+------+-------+\n",
      "\n"
     ]
    },
    {
     "name": "stderr",
     "output_type": "stream",
     "text": [
      "                                                                                \r"
     ]
    }
   ],
   "source": [
    "fifa_df.groupBy('type','result').agg(f.count('result').alias('슈팅 수')).orderBy('type','result',ascending=True).show()"
   ]
  },
  {
   "cell_type": "code",
   "execution_count": 17,
   "id": "797fab4d",
   "metadata": {},
   "outputs": [
    {
     "name": "stdout",
     "output_type": "stream",
     "text": [
      "22/12/24 22:49:16 WARN CSVHeaderChecker: CSV header does not conform to the schema.\n",
      " Header: , goalTime, x, y, type, spId, spGrade, spLevel, spIdType, assist, assistSpId, assistX, assistY, hitPost, inPenalty, result, id, name, season, 포지션, 골 결정력, 슛 파워, 중거리 슛, 위치 선정, 발리 슛, 페널티 킥, 프리킥, 커브, 볼 컨트롤, 밸런스, 헤더, 점프, 침착성\n",
      " Schema: _c0, goalTime, x, y, type, spId, spGrade, spLevel, spIdType, assist, assistSpId, assistX, assistY, hitPost, inPenalty, result, id, name, season, 포지션, 골 결정력, 슛 파워, 중거리 슛, 위치 선정, 발리 슛, 페널티 킥, 프리킥, 커브, 볼 컨트롤, 밸런스, 헤더, 점프, 침착성\n",
      "Expected: _c0 but found: \n",
      "CSV file: file:///home/mobile/Desktop/data/final_df.csv\n"
     ]
    },
    {
     "name": "stderr",
     "output_type": "stream",
     "text": [
      "                                                                                \r"
     ]
    },
    {
     "data": {
      "text/plain": [
       "<AxesSubplot:title={'center':'type ~ shoot cnt'}, xlabel='type'>"
      ]
     },
     "execution_count": 17,
     "metadata": {},
     "output_type": "execute_result"
    },
    {
     "name": "stderr",
     "output_type": "stream",
     "text": [
      "findfont: Font family ['Malgun Gothic'] not found. Falling back to DejaVu Sans.\n"
     ]
    },
    {
     "data": {
      "image/png": "[encoded data removed]",
      "text/plain": [
       "<Figure size 640x480 with 1 Axes>"
      ]
     },
     "metadata": {},
     "output_type": "display_data"
    }
   ],
   "source": [
    "fifa_df.groupBy('type','result').agg(f.count('result').alias('NUM_SHOOT')).orderBy('type','result',ascending=True).toPandas().plot(kind='bar',x='type',y='NUM_SHOOT',title='type ~ shoot cnt',color=['black','black','gray','gray','blue','blue','green','green','black','red','red','silver','silver','orange','orange','lightgrey','lightgrey','purple','purple'])"
   ]
  },
  {
   "cell_type": "markdown",
   "id": "188f4c25",
   "metadata": {},
   "source": [
    "5. 슈팅 결과와 다른 특성들의 상관관계 분석"
   ]
  },
  {
   "cell_type": "code",
   "execution_count": 18,
   "id": "6120541b",
   "metadata": {},
   "outputs": [],
   "source": [
    "fifa_df = fifa_df.withColumn('result',fifa_df['result'].cast(IntegerType()))"
   ]
  },
  {
   "cell_type": "code",
   "execution_count": 19,
   "id": "4991b8c8",
   "metadata": {},
   "outputs": [
    {
     "name": "stdout",
     "output_type": "stream",
     "text": [
      "22/12/24 22:49:25 WARN CSVHeaderChecker: CSV header does not conform to the schema.\n",
      " Header: , goalTime, x, y, type, spId, spGrade, spLevel, spIdType, assist, assistSpId, assistX, assistY, hitPost, inPenalty, result, id, name, season, 포지션, 골 결정력, 슛 파워, 중거리 슛, 위치 선정, 발리 슛, 페널티 킥, 프리킥, 커브, 볼 컨트롤, 밸런스, 헤더, 점프, 침착성\n",
      " Schema: _c0, goalTime, x, y, type, spId, spGrade, spLevel, spIdType, assist, assistSpId, assistX, assistY, hitPost, inPenalty, result, id, name, season, 포지션, 골 결정력, 슛 파워, 중거리 슛, 위치 선정, 발리 슛, 페널티 킥, 프리킥, 커브, 볼 컨트롤, 밸런스, 헤더, 점프, 침착성\n",
      "Expected: _c0 but found: \n",
      "CSV file: file:///home/mobile/Desktop/data/final_df.csv\n"
     ]
    },
    {
     "name": "stderr",
     "output_type": "stream",
     "text": [
      "                                                                                \r"
     ]
    },
    {
     "name": "stdout",
     "output_type": "stream",
     "text": [
      "22/12/24 22:49:32 WARN CSVHeaderChecker: CSV header does not conform to the schema.\n",
      " Header: , goalTime, x, y, type, spId, spGrade, spLevel, spIdType, assist, assistSpId, assistX, assistY, hitPost, inPenalty, result, id, name, season, 포지션, 골 결정력, 슛 파워, 중거리 슛, 위치 선정, 발리 슛, 페널티 킥, 프리킥, 커브, 볼 컨트롤, 밸런스, 헤더, 점프, 침착성\n",
      " Schema: _c0, goalTime, x, y, type, spId, spGrade, spLevel, spIdType, assist, assistSpId, assistX, assistY, hitPost, inPenalty, result, id, name, season, 포지션, 골 결정력, 슛 파워, 중거리 슛, 위치 선정, 발리 슛, 페널티 킥, 프리킥, 커브, 볼 컨트롤, 밸런스, 헤더, 점프, 침착성\n",
      "Expected: _c0 but found: \n",
      "CSV file: file:///home/mobile/Desktop/data/final_df.csv\n"
     ]
    },
    {
     "name": "stderr",
     "output_type": "stream",
     "text": [
      "                                                                                \r"
     ]
    }
   ],
   "source": [
    "type_result = fifa_df.corr('type','result')\n",
    "GD_result = fifa_df.corr('골 결정력','result')"
   ]
  },
  {
   "cell_type": "code",
   "execution_count": 20,
   "id": "58761a15",
   "metadata": {},
   "outputs": [
    {
     "name": "stdout",
     "output_type": "stream",
     "text": [
      "0.12091933102576341 0.08017830084254808\n"
     ]
    }
   ],
   "source": [
    "print(type_result, GD_result)"
   ]
  },
  {
   "cell_type": "code",
   "execution_count": 21,
   "id": "a4c5479f",
   "metadata": {
    "scrolled": false
   },
   "outputs": [
    {
     "data": {
      "image/png": "[encoded data removed]",
      "text/plain": [
       "<Figure size 1000x600 with 1 Axes>"
      ]
     },
     "metadata": {},
     "output_type": "display_data"
    }
   ],
   "source": [
    "plt.figure(figsize=(10,6))\n",
    "\n",
    "x = ['type~result','GD~result']\n",
    "y = [type_result, GD_result]\n",
    "colors = ['black','silver']\n",
    "plt.bar(x, y, width = 0.4, color = colors)\n",
    "plt.title('Result Correlation comparsion (Type vs. Goal Decision)')\n",
    "plt.ylim([0,0.15])\n",
    "\n",
    "plt.show()"
   ]
  },
  {
   "cell_type": "markdown",
   "id": "ad9cfb1f",
   "metadata": {},
   "source": [
    "6. 헤딩 슈팅인 경우, 슈팅 결과에 따른 점핑 헤더의 평균 비교"
   ]
  },
  {
   "cell_type": "code",
   "execution_count": 22,
   "id": "55d2dc94",
   "metadata": {},
   "outputs": [
    {
     "name": "stdout",
     "output_type": "stream",
     "text": [
      "22/12/24 22:49:39 WARN CSVHeaderChecker: CSV header does not conform to the schema.\n",
      " Header: , goalTime, x, y, type, spId, spGrade, spLevel, spIdType, assist, assistSpId, assistX, assistY, hitPost, inPenalty, result, id, name, season, 포지션, 골 결정력, 슛 파워, 중거리 슛, 위치 선정, 발리 슛, 페널티 킥, 프리킥, 커브, 볼 컨트롤, 밸런스, 헤더, 점프, 침착성\n",
      " Schema: _c0, goalTime, x, y, type, spId, spGrade, spLevel, spIdType, assist, assistSpId, assistX, assistY, hitPost, inPenalty, result, id, name, season, 포지션, 골 결정력, 슛 파워, 중거리 슛, 위치 선정, 발리 슛, 페널티 킥, 프리킥, 커브, 볼 컨트롤, 밸런스, 헤더, 점프, 침착성\n",
      "Expected: _c0 but found: \n",
      "CSV file: file:///home/mobile/Desktop/data/final_df.csv\n"
     ]
    },
    {
     "name": "stderr",
     "output_type": "stream",
     "text": [
      "                                                                                \r"
     ]
    },
    {
     "name": "stdout",
     "output_type": "stream",
     "text": [
      "22/12/24 22:49:48 WARN CSVHeaderChecker: CSV header does not conform to the schema.\n",
      " Header: , goalTime, x, y, type, spId, spGrade, spLevel, spIdType, assist, assistSpId, assistX, assistY, hitPost, inPenalty, result, id, name, season, 포지션, 골 결정력, 슛 파워, 중거리 슛, 위치 선정, 발리 슛, 페널티 킥, 프리킥, 커브, 볼 컨트롤, 밸런스, 헤더, 점프, 침착성\n",
      " Schema: _c0, goalTime, x, y, type, spId, spGrade, spLevel, spIdType, assist, assistSpId, assistX, assistY, hitPost, inPenalty, result, id, name, season, 포지션, 골 결정력, 슛 파워, 중거리 슛, 위치 선정, 발리 슛, 페널티 킥, 프리킥, 커브, 볼 컨트롤, 밸런스, 헤더, 점프, 침착성\n",
      "Expected: _c0 but found: \n",
      "CSV file: file:///home/mobile/Desktop/data/final_df.csv\n"
     ]
    },
    {
     "name": "stderr",
     "output_type": "stream",
     "text": [
      "                                                                                \r"
     ]
    }
   ],
   "source": [
    "heading = fifa_df.where('type==3 & result==1').agg(f.avg('점핑 헤더')).toPandas().iloc[0,0]\n",
    "\n",
    "not_heading = fifa_df.where('type!=3 & result==1').agg(f.avg('점핑 헤더')).toPandas().iloc[0,0]"
   ]
  },
  {
   "cell_type": "code",
   "execution_count": 23,
   "id": "d99a7067",
   "metadata": {},
   "outputs": [
    {
     "data": {
      "image/png": "[encoded data removed]",
      "text/plain": [
       "<Figure size 1000x600 with 1 Axes>"
      ]
     },
     "metadata": {},
     "output_type": "display_data"
    }
   ],
   "source": [
    "plt.figure(figsize=(10,6))\n",
    "\n",
    "x = ['heading','headingX']\n",
    "y = [heading, not_heading]\n",
    "colors = ['black','silver']\n",
    "plt.bar(x, y, width = 0.4, color = colors)\n",
    "plt.title('Header status comparsion (Goal vs. No Goal)')\n",
    "plt.ylim([95,96])\n",
    "\n",
    "plt.show()"
   ]
  },
  {
   "cell_type": "markdown",
   "id": "8c5fba9e",
   "metadata": {},
   "source": [
    "7. 골 여부에 따른 골 결정력 평균 비교"
   ]
  },
  {
   "cell_type": "code",
   "execution_count": 24,
   "id": "09e3c10f",
   "metadata": {
    "collapsed": true
   },
   "outputs": [
    {
     "name": "stdout",
     "output_type": "stream",
     "text": [
      "22/12/24 22:49:56 WARN CSVHeaderChecker: CSV header does not conform to the schema.\n",
      " Header: , goalTime, x, y, type, spId, spGrade, spLevel, spIdType, assist, assistSpId, assistX, assistY, hitPost, inPenalty, result, id, name, season, 포지션, 골 결정력, 슛 파워, 중거리 슛, 위치 선정, 발리 슛, 페널티 킥, 프리킥, 커브, 볼 컨트롤, 밸런스, 헤더, 점프, 침착성\n",
      " Schema: _c0, goalTime, x, y, type, spId, spGrade, spLevel, spIdType, assist, assistSpId, assistX, assistY, hitPost, inPenalty, result, id, name, season, 포지션, 골 결정력, 슛 파워, 중거리 슛, 위치 선정, 발리 슛, 페널티 킥, 프리킥, 커브, 볼 컨트롤, 밸런스, 헤더, 점프, 침착성\n",
      "Expected: _c0 but found: \n",
      "CSV file: file:///home/mobile/Desktop/data/final_df.csv\n"
     ]
    },
    {
     "name": "stderr",
     "output_type": "stream",
     "text": [
      "                                                                                \r"
     ]
    },
    {
     "name": "stdout",
     "output_type": "stream",
     "text": [
      "22/12/24 22:50:06 WARN CSVHeaderChecker: CSV header does not conform to the schema.\n",
      " Header: , goalTime, x, y, type, spId, spGrade, spLevel, spIdType, assist, assistSpId, assistX, assistY, hitPost, inPenalty, result, id, name, season, 포지션, 골 결정력, 슛 파워, 중거리 슛, 위치 선정, 발리 슛, 페널티 킥, 프리킥, 커브, 볼 컨트롤, 밸런스, 헤더, 점프, 침착성\n",
      " Schema: _c0, goalTime, x, y, type, spId, spGrade, spLevel, spIdType, assist, assistSpId, assistX, assistY, hitPost, inPenalty, result, id, name, season, 포지션, 골 결정력, 슛 파워, 중거리 슛, 위치 선정, 발리 슛, 페널티 킥, 프리킥, 커브, 볼 컨트롤, 밸런스, 헤더, 점프, 침착성\n",
      "Expected: _c0 but found: \n",
      "CSV file: file:///home/mobile/Desktop/data/final_df.csv\n"
     ]
    },
    {
     "name": "stderr",
     "output_type": "stream",
     "text": [
      "                                                                                \r"
     ]
    }
   ],
   "source": [
    "goal = fifa_df.where('result==1').agg(f.avg('골 결정력')).toPandas().iloc[0,0]\n",
    "\n",
    "no_goal = fifa_df.where('result==0').agg(f.avg('골 결정력')).toPandas().iloc[0,0]"
   ]
  },
  {
   "cell_type": "code",
   "execution_count": 25,
   "id": "bf921b57",
   "metadata": {},
   "outputs": [
    {
     "name": "stdout",
     "output_type": "stream",
     "text": [
      "103.38133106709459 101.72329499170682\n"
     ]
    }
   ],
   "source": [
    "print(goal, no_goal)"
   ]
  },
  {
   "cell_type": "code",
   "execution_count": 26,
   "id": "9aeee0ca",
   "metadata": {
    "scrolled": true
   },
   "outputs": [
    {
     "data": {
      "image/png": "[encoded data removed]",
      "text/plain": [
       "<Figure size 1000x600 with 1 Axes>"
      ]
     },
     "metadata": {},
     "output_type": "display_data"
    }
   ],
   "source": [
    "plt.figure(figsize=(10,6))\n",
    "\n",
    "x = ['Goal','No Goal']\n",
    "y = [goal, no_goal]\n",
    "colors = ['black','silver']\n",
    "plt.bar(x, y, width = 0.4, color = colors)\n",
    "plt.title('Goal Decision status comparsion (Goal vs. No Goal)')\n",
    "plt.ylim([100,110])\n",
    "\n",
    "plt.show()"
   ]
  },
  {
   "cell_type": "markdown",
   "id": "a2ce5b62",
   "metadata": {},
   "source": [
    "전체 능력의 합과 슈팅 결과의 상관관계"
   ]
  },
  {
   "cell_type": "code",
   "execution_count": 27,
   "id": "a117973e",
   "metadata": {},
   "outputs": [],
   "source": [
    "fifa_df = fifa_df.withColumn('overall',fifa_df['골 결정력']+fifa_df['슛 파워']+fifa_df['중거리 슛']+fifa_df['위치 선정']+fifa_df['발리 슛']+fifa_df['페널티 킥']+fifa_df['프리킥']+fifa_df['커브']+fifa_df['볼 컨트롤']+fifa_df['밸런스']+fifa_df['침착성']+fifa_df['점핑 헤더'])"
   ]
  },
  {
   "cell_type": "code",
   "execution_count": 28,
   "id": "a46b3a06",
   "metadata": {
    "scrolled": false
   },
   "outputs": [
    {
     "name": "stdout",
     "output_type": "stream",
     "text": [
      "22/12/24 22:50:16 WARN CSVHeaderChecker: CSV header does not conform to the schema.\n",
      " Header: , goalTime, x, y, type, spId, spGrade, spLevel, spIdType, assist, assistSpId, assistX, assistY, hitPost, inPenalty, result, id, name, season, 포지션, 골 결정력, 슛 파워, 중거리 슛, 위치 선정, 발리 슛, 페널티 킥, 프리킥, 커브, 볼 컨트롤, 밸런스, 헤더, 점프, 침착성\n",
      " Schema: _c0, goalTime, x, y, type, spId, spGrade, spLevel, spIdType, assist, assistSpId, assistX, assistY, hitPost, inPenalty, result, id, name, season, 포지션, 골 결정력, 슛 파워, 중거리 슛, 위치 선정, 발리 슛, 페널티 킥, 프리킥, 커브, 볼 컨트롤, 밸런스, 헤더, 점프, 침착성\n",
      "Expected: _c0 but found: \n",
      "CSV file: file:///home/mobile/Desktop/data/final_df.csv\n"
     ]
    },
    {
     "name": "stderr",
     "output_type": "stream",
     "text": [
      "                                                                                \r"
     ]
    },
    {
     "name": "stdout",
     "output_type": "stream",
     "text": [
      "22/12/24 22:50:24 WARN CSVHeaderChecker: CSV header does not conform to the schema.\n",
      " Header: , goalTime, x, y, type, spId, spGrade, spLevel, spIdType, assist, assistSpId, assistX, assistY, hitPost, inPenalty, result, id, name, season, 포지션, 골 결정력, 슛 파워, 중거리 슛, 위치 선정, 발리 슛, 페널티 킥, 프리킥, 커브, 볼 컨트롤, 밸런스, 헤더, 점프, 침착성\n",
      " Schema: _c0, goalTime, x, y, type, spId, spGrade, spLevel, spIdType, assist, assistSpId, assistX, assistY, hitPost, inPenalty, result, id, name, season, 포지션, 골 결정력, 슛 파워, 중거리 슛, 위치 선정, 발리 슛, 페널티 킥, 프리킥, 커브, 볼 컨트롤, 밸런스, 헤더, 점프, 침착성\n",
      "Expected: _c0 but found: \n",
      "CSV file: file:///home/mobile/Desktop/data/final_df.csv\n"
     ]
    },
    {
     "name": "stderr",
     "output_type": "stream",
     "text": [
      "                                                                                \r"
     ]
    }
   ],
   "source": [
    "overall_goal = fifa_df.where('result==1').agg(f.avg('overall')).toPandas().iloc[0,0]\n",
    "\n",
    "overall_nogoal = fifa_df.where('result==0').agg(f.avg('overall')).toPandas().iloc[0,0]"
   ]
  },
  {
   "cell_type": "code",
   "execution_count": 53,
   "id": "e955423d",
   "metadata": {},
   "outputs": [
    {
     "name": "stdout",
     "output_type": "stream",
     "text": [
      "22/12/24 23:21:41 WARN CSVHeaderChecker: CSV header does not conform to the schema.\n",
      " Header: , goalTime, x, y, type, spId, spGrade, spLevel, spIdType, assist, assistSpId, assistX, assistY, hitPost, inPenalty, result, id, name, season, 포지션, 골 결정력, 슛 파워, 중거리 슛, 위치 선정, 발리 슛, 페널티 킥, 프리킥, 커브, 볼 컨트롤, 밸런스, 헤더, 점프, 침착성\n",
      " Schema: _c0, goalTime, x, y, type, spId, spGrade, spLevel, spIdType, assist, assistSpId, assistX, assistY, hitPost, inPenalty, result, id, name, season, 포지션, 골 결정력, 슛 파워, 중거리 슛, 위치 선정, 발리 슛, 페널티 킥, 프리킥, 커브, 볼 컨트롤, 밸런스, 헤더, 점프, 침착성\n",
      "Expected: _c0 but found: \n",
      "CSV file: file:///home/mobile/Desktop/data/final_df.csv\n"
     ]
    },
    {
     "name": "stderr",
     "output_type": "stream",
     "text": [
      "                                                                                \r"
     ]
    },
    {
     "data": {
      "text/plain": [
       "0.05190960270600731"
      ]
     },
     "execution_count": 53,
     "metadata": {},
     "output_type": "execute_result"
    }
   ],
   "source": [
    "fifa_df.corr('overall','result')"
   ]
  },
  {
   "cell_type": "code",
   "execution_count": 29,
   "id": "6022f083",
   "metadata": {},
   "outputs": [
    {
     "name": "stdout",
     "output_type": "stream",
     "text": [
      "1219.645051939913 1211.757840486402\n"
     ]
    }
   ],
   "source": [
    "print(overall_goal, overall_nogoal)"
   ]
  },
  {
   "cell_type": "code",
   "execution_count": 30,
   "id": "72d9b1ec",
   "metadata": {
    "collapsed": true
   },
   "outputs": [
    {
     "data": {
      "image/png": "[encoded data removed]",
      "text/plain": [
       "<Figure size 1000x600 with 1 Axes>"
      ]
     },
     "metadata": {},
     "output_type": "display_data"
    }
   ],
   "source": [
    "plt.figure(figsize=(10,6))\n",
    "\n",
    "x = ['Goal','No Goal']\n",
    "y = [overall_goal, overall_nogoal]\n",
    "colors = ['black','silver']\n",
    "plt.bar(x, y, width = 0.4, color = colors)\n",
    "plt.title('Overall status comparsion (Goal vs. No Goal)')\n",
    "plt.ylim([1210,1230])\n",
    "\n",
    "plt.show()"
   ]
  },
  {
   "cell_type": "code",
   "execution_count": 31,
   "id": "9a4e300c",
   "metadata": {
    "collapsed": true
   },
   "outputs": [
    {
     "name": "stdout",
     "output_type": "stream",
     "text": [
      "root\n",
      " |-- _c0: integer (nullable = true)\n",
      " |-- goalTime: integer (nullable = true)\n",
      " |-- x: double (nullable = true)\n",
      " |-- y: double (nullable = true)\n",
      " |-- type: integer (nullable = true)\n",
      " |-- spId: integer (nullable = true)\n",
      " |-- spGrade: integer (nullable = true)\n",
      " |-- spLevel: integer (nullable = true)\n",
      " |-- spIdType: boolean (nullable = true)\n",
      " |-- assist: boolean (nullable = true)\n",
      " |-- assistSpId: integer (nullable = true)\n",
      " |-- assistX: double (nullable = true)\n",
      " |-- assistY: double (nullable = true)\n",
      " |-- hitPost: boolean (nullable = true)\n",
      " |-- inPenalty: boolean (nullable = true)\n",
      " |-- result: integer (nullable = true)\n",
      " |-- id: double (nullable = true)\n",
      " |-- name: string (nullable = true)\n",
      " |-- season: string (nullable = true)\n",
      " |-- 포지션: string (nullable = true)\n",
      " |-- 골 결정력: double (nullable = true)\n",
      " |-- 슛 파워: double (nullable = true)\n",
      " |-- 중거리 슛: double (nullable = true)\n",
      " |-- 위치 선정: double (nullable = true)\n",
      " |-- 발리 슛: double (nullable = true)\n",
      " |-- 페널티 킥: double (nullable = true)\n",
      " |-- 프리킥: double (nullable = true)\n",
      " |-- 커브: double (nullable = true)\n",
      " |-- 볼 컨트롤: double (nullable = true)\n",
      " |-- 밸런스: double (nullable = true)\n",
      " |-- 침착성: double (nullable = true)\n",
      " |-- 점핑 헤더: double (nullable = true)\n",
      " |-- overall: double (nullable = true)\n",
      "\n"
     ]
    }
   ],
   "source": [
    "fifa_df.printSchema()"
   ]
  },
  {
   "cell_type": "markdown",
   "id": "de10a8cd",
   "metadata": {},
   "source": [
    "슈팅 타입과 전체 능력치를 통한 슈팅 결과 분류 모델 생성"
   ]
  },
  {
   "cell_type": "code",
   "execution_count": 45,
   "id": "d54c9a90",
   "metadata": {},
   "outputs": [
    {
     "name": "stderr",
     "output_type": "stream",
     "text": [
      "[Stage 57:>                                                         (0 + 1) / 1]\r"
     ]
    },
    {
     "name": "stdout",
     "output_type": "stream",
     "text": [
      "22/12/24 23:12:38 WARN CSVHeaderChecker: CSV header does not conform to the schema.\n",
      " Header: , goalTime, x, y, type, spId, spGrade, spLevel, spIdType, assist, assistSpId, assistX, assistY, hitPost, inPenalty, result, id, name, season, 포지션, 골 결정력, 슛 파워, 중거리 슛, 위치 선정, 발리 슛, 페널티 킥, 프리킥, 커브, 볼 컨트롤, 밸런스, 헤더, 점프, 침착성\n",
      " Schema: _c0, goalTime, x, y, type, spId, spGrade, spLevel, spIdType, assist, assistSpId, assistX, assistY, hitPost, inPenalty, result, id, name, season, 포지션, 골 결정력, 슛 파워, 중거리 슛, 위치 선정, 발리 슛, 페널티 킥, 프리킥, 커브, 볼 컨트롤, 밸런스, 헤더, 점프, 침착성\n",
      "Expected: _c0 but found: \n",
      "CSV file: file:///home/mobile/Desktop/data/final_df.csv\n",
      "+---+--------+------------------+-------------------+----+---------+-------+-------+--------+------+----------+------------------+-------------------+-------+---------+------+------------+-----------------+--------------------+------+---------+-------+---------+---------+-------+---------+------+-----+---------+------+------+---------+-------+------------+\n",
      "|_c0|goalTime|                 x|                  y|type|     spId|spGrade|spLevel|spIdType|assist|assistSpId|           assistX|            assistY|hitPost|inPenalty|result|          id|             name|              season|포지션|골 결정력|슛 파워|중거리 슛|위치 선정|발리 슛|페널티 킥|프리킥| 커브|볼 컨트롤|밸런스|침착성|점핑 헤더|overall|    features|\n",
      "+---+--------+------------------+-------------------+----+---------+-------+-------+--------+------+----------+------------------+-------------------+-------+---------+------+------------+-----------------+--------------------+------+---------+-------+---------+---------+-------+---------+------+-----+---------+------+------+---------+-------+------------+\n",
      "|  0|    1883|0.9221178293228148| 0.3964051008224487|   6|257243061|      6|      5|    true|  true| 225242881|0.8373380303382874|  0.312536895275116|  false|     true|     0|2.57243061E8|           이동준|    21 K-League Best|    RW|    103.0|   97.0|     87.0|    106.0|   87.0|     87.0|  83.0| 91.0|     98.0| 104.0|  96.0|     91.5| 1130.5|[6.0,1130.5]|\n",
      "|  1|    2853|0.9341142177581788| 0.5784599184989929|   6|247165889|      6|      5|    true|  true| 225199231|0.9860141277313232| 0.7097822427749634|  false|     true|     1|2.47165889E8|           박주영|             2012 KH|    ST|    104.0|  101.0|    105.0|    108.0|   99.0|    102.0| 105.0|108.0|    101.0| 100.0| 102.0|    101.0| 1236.0|[6.0,1236.0]|\n",
      "|  2|16778137|0.8963946104049683|0.37942698597908003|   6|257243061|      6|      5|    true|  true| 225242881| 0.850902259349823| 0.2710155844688416|  false|     true|     0|2.57243061E8|           이동준|    21 K-League Best|    RW|    103.0|   97.0|     87.0|    106.0|   87.0|     87.0|  83.0| 91.0|     98.0| 104.0|  96.0|     91.5| 1130.5|[6.0,1130.5]|\n",
      "|  3|     852|0.9047306180000301|   0.54314124584198|   6|257243061|      6|      5|    true|  true| 247165889|0.8283905982971191|  0.439917653799057|  false|     true|     1|2.57243061E8|           이동준|    21 K-League Best|    RW|    103.0|   97.0|     87.0|    106.0|   87.0|     87.0|  83.0| 91.0|     98.0| 104.0|  96.0|     91.5| 1130.5|[6.0,1130.5]|\n",
      "|  4|16780164|0.8646484017372131|    0.4984096288681|   6|225242881|      6|      5|    true|  true| 247199266|0.8272624015808101| 0.5971289277076721|  false|     true|     0|2.25242881E8|           고정운|       TEAM K LEAGUE|    CF|    101.0|   95.0|     96.0|    101.0|   94.0|     96.0|  91.0| 94.0|    100.0| 107.0|  93.0|     88.5| 1156.5|[6.0,1156.5]|\n",
      "|  5|16780164|0.8646484017372131|    0.4984096288681|   6|225242881|      6|      5|    true|  true| 247199266|0.8272624015808101| 0.5971289277076721|  false|     true|     0|2.25242881E8|           고정운|       TEAM K LEAGUE|    CF|    101.0|   95.0|     96.0|    101.0|   94.0|     96.0|  91.0| 94.0|    100.0| 107.0|  93.0|     88.5| 1156.5|[6.0,1156.5]|\n",
      "|  6|50332153|0.8228990435600281|   0.43468701839447|   2|257243061|      6|      5|    true|  true| 257180283|0.7337825894355774| 0.6854075193405151|  false|    false|     0|2.57243061E8|           이동준|    21 K-League Best|    RW|    103.0|   97.0|     87.0|    106.0|   87.0|     87.0|  83.0| 91.0|     98.0| 104.0|  96.0|     91.5| 1130.5|[2.0,1130.5]|\n",
      "|  7|50332596| 0.933114230632782| 0.5186775922775269|   6|225140057|      6|      5|    true| false|        -1|               0.5|                0.5|  false|     true|     0|2.25140057E8|           차두리|       TEAM K LEAGUE|    RB|     84.0|   93.0|     89.0|     92.0|   81.0|     82.0|  66.0| 72.0|     88.0| 107.0|  91.0|     81.5| 1026.5|[6.0,1026.5]|\n",
      "|  8|     467|0.7833896279335022| 0.4798572659492493|   2|101009676|      5|      5|    true|  true| 268262271|0.7039075493812561| 0.3668257296085358|  false|    false|     1|1.01009676E8|      사뮈엘 에토|                ICON|    ST|    118.0|  108.0|    110.0|    116.0|  112.0|    113.0| 109.0|114.0|    108.0| 113.0| 118.0|    104.0| 1343.0|[2.0,1343.0]|\n",
      "|  9|    2381|0.8097765445709229| 0.4904351532459259|   1|214181872|      8|      5|    true|  true| 246181458|0.8161612153053284| 0.5125520229339601|  false|    false|     0|2.14181872E8|    아르투로 비달|Tournament Champions|    CM|     80.0|   88.0|     88.0|     83.0|   83.0|     91.0|  73.0| 81.0|     88.0|  82.0|  91.0|     89.5| 1017.5|[1.0,1017.5]|\n",
      "| 10|    2536|0.7825442552566528|  0.579077422618866|   2|268166120|      5|      5|    true|  true| 268191189|0.8178725838661194| 0.6071608066558838|  false|    false|     0| 2.6816612E8|안드레아스 브레메|   LEGENDARY NUMBERS|   LWB|     83.0|  107.0|    106.0|     96.0|   88.0|    109.0| 106.0|107.0|    101.0| 105.0|  99.0|     98.5| 1205.5|[2.0,1205.5]|\n",
      "| 11|16779073|0.8821696639060974| 0.5798290967941284|   6|268191189|      5|      5|    true|  true| 268262271|0.7955814599990845| 0.5865184664726257|  false|     true|     1|2.68191189E8|  로타어 마테우스|   LEGENDARY NUMBERS|    CM|    105.0|  111.0|    111.0|    108.0|   98.0|    110.0| 109.0|101.0|    107.0| 111.0| 108.0|     95.5| 1274.5|[6.0,1274.5]|\n",
      "| 12|33554896|0.8784374594688416|   0.56249326467514|   6|268191189|      5|      5|    true|  true| 268262271|0.8518722057342529| 0.3374460935592651|  false|     true|     1|2.68191189E8|  로타어 마테우스|   LEGENDARY NUMBERS|    CM|    105.0|  111.0|    111.0|    108.0|   98.0|    110.0| 109.0|101.0|    107.0| 111.0| 108.0|     95.5| 1274.5|[6.0,1274.5]|\n",
      "| 13|50332421|0.8989494442939758| 0.4990663528442383|   9|101009676|      5|      5|    true| false|        -1|               0.5|                0.5|  false|     true|     1|1.01009676E8|      사뮈엘 에토|                ICON|    ST|    118.0|  108.0|    110.0|    116.0|  112.0|    113.0| 109.0|114.0|    108.0| 113.0| 118.0|    104.0| 1343.0|[9.0,1343.0]|\n",
      "| 14|     415|0.9357155561447144|0.48770385980605996|   3|268262271|      5|      5|    true| false|        -1|               0.5|                0.5|  false|     true|     0|2.68262271E8|        D. 밀리토|   LEGENDARY NUMBERS|    ST|    112.0|  106.0|    105.0|    111.0|  106.0|    109.0|  95.0|102.0|    110.0| 107.0| 109.0|    105.0| 1277.0|[3.0,1277.0]|\n",
      "| 15|16779154|0.9605013132095336| 0.4760841131210327|   2|101009676|      5|      5|    true|  true| 268166120|0.9910130500793456|0.32062259316444397|  false|     true|     1|1.01009676E8|      사뮈엘 에토|                ICON|    ST|    118.0|  108.0|    110.0|    116.0|  112.0|    113.0| 109.0|114.0|    108.0| 113.0| 118.0|    104.0| 1343.0|[2.0,1343.0]|\n",
      "| 16|16780008|0.9008204340934752| 0.5242530107498169|   6|101009676|      5|      5|    true|  true| 268191189|0.8631547689437866| 0.6941360831260681|  false|     true|     1|1.01009676E8|      사뮈엘 에토|                ICON|    ST|    118.0|  108.0|    110.0|    116.0|  112.0|    113.0| 109.0|114.0|    108.0| 113.0| 118.0|    104.0| 1343.0|[6.0,1343.0]|\n",
      "| 17|     669|0.8859817385673523| 0.5403483510017395|   6|101009676|      5|      5|    true|  true| 214181872|0.7597113251686096| 0.4908158183097839|  false|     true|     1|1.01009676E8|      사뮈엘 에토|                ICON|    ST|    118.0|  108.0|    110.0|    116.0|  112.0|    113.0| 109.0|114.0|    108.0| 113.0| 118.0|    104.0| 1343.0|[6.0,1343.0]|\n",
      "| 18|    1826|0.8938829898834229| 0.3624725639820099|   6|268166120|      5|      5|    true|  true| 214181872| 0.484495997428894|  0.643072247505188|  false|     true|     0| 2.6816612E8|안드레아스 브레메|   LEGENDARY NUMBERS|   LWB|     83.0|  107.0|    106.0|     96.0|   88.0|    109.0| 106.0|107.0|    101.0| 105.0|  99.0|     98.5| 1205.5|[6.0,1205.5]|\n",
      "| 19|    1892|0.8823449611663818|  0.576524019241333|   6|246181458|      8|      5|    true|  true| 214181872|0.8363961577415466| 0.4577922523021698|  false|     true|     0|2.46181458E8|    이반 페리시치|      Unsung Players|    LW|     93.0|  102.0|    100.0|     97.0|   90.0|     91.0|  91.0|101.0|     94.0| 101.0|  94.0|     90.0| 1144.0|[6.0,1144.0]|\n",
      "+---+--------+------------------+-------------------+----+---------+-------+-------+--------+------+----------+------------------+-------------------+-------+---------+------+------------+-----------------+--------------------+------+---------+-------+---------+---------+-------+---------+------+-----+---------+------+------+---------+-------+------------+\n",
      "only showing top 20 rows\n",
      "\n"
     ]
    },
    {
     "name": "stderr",
     "output_type": "stream",
     "text": [
      "                                                                                \r"
     ]
    }
   ],
   "source": [
    "c = ['type','overall']\n",
    "\n",
    "fea = VectorAssembler(inputCols=c, outputCol ='features')\n",
    "\n",
    "\n",
    "v_df = fea.transform(fifa_df)\n",
    "\n",
    "v_df.show()"
   ]
  },
  {
   "cell_type": "code",
   "execution_count": 46,
   "id": "85e1d82c",
   "metadata": {},
   "outputs": [],
   "source": [
    "train_df, test_df = v_df.randomSplit([0.7,0.3])"
   ]
  },
  {
   "cell_type": "code",
   "execution_count": 47,
   "id": "8efec1c4",
   "metadata": {},
   "outputs": [
    {
     "name": "stdout",
     "output_type": "stream",
     "text": [
      "22/12/24 23:12:43 WARN CSVHeaderChecker: CSV header does not conform to the schema.\n",
      " Header: , goalTime, x, y, type, spId, spGrade, spLevel, spIdType, assist, assistSpId, assistX, assistY, hitPost, inPenalty, result, id, name, season, 포지션, 골 결정력, 슛 파워, 중거리 슛, 위치 선정, 발리 슛, 페널티 킥, 프리킥, 커브, 볼 컨트롤, 밸런스, 헤더, 점프, 침착성\n",
      " Schema: _c0, goalTime, x, y, type, spId, spGrade, spLevel, spIdType, assist, assistSpId, assistX, assistY, hitPost, inPenalty, result, id, name, season, 포지션, 골 결정력, 슛 파워, 중거리 슛, 위치 선정, 발리 슛, 페널티 킥, 프리킥, 커브, 볼 컨트롤, 밸런스, 헤더, 점프, 침착성\n",
      "Expected: _c0 but found: \n",
      "CSV file: file:///home/mobile/Desktop/data/final_df.csv\n"
     ]
    },
    {
     "name": "stderr",
     "output_type": "stream",
     "text": [
      "                                                                                \r"
     ]
    },
    {
     "name": "stdout",
     "output_type": "stream",
     "text": [
      "22/12/24 23:13:02 WARN CSVHeaderChecker: CSV header does not conform to the schema.\n",
      " Header: , goalTime, x, y, type, spId, spGrade, spLevel, spIdType, assist, assistSpId, assistX, assistY, hitPost, inPenalty, result, id, name, season, 포지션, 골 결정력, 슛 파워, 중거리 슛, 위치 선정, 발리 슛, 페널티 킥, 프리킥, 커브, 볼 컨트롤, 밸런스, 헤더, 점프, 침착성\n",
      " Schema: _c0, goalTime, x, y, type, spId, spGrade, spLevel, spIdType, assist, assistSpId, assistX, assistY, hitPost, inPenalty, result, id, name, season, 포지션, 골 결정력, 슛 파워, 중거리 슛, 위치 선정, 발리 슛, 페널티 킥, 프리킥, 커브, 볼 컨트롤, 밸런스, 헤더, 점프, 침착성\n",
      "Expected: _c0 but found: \n",
      "CSV file: file:///home/mobile/Desktop/data/final_df.csv\n"
     ]
    },
    {
     "name": "stderr",
     "output_type": "stream",
     "text": [
      "                                                                                \r"
     ]
    }
   ],
   "source": [
    "lr = LogisticRegression(featuresCol='features',labelCol='result')\n",
    "\n",
    "lrModel = lr.fit(train_df)"
   ]
  },
  {
   "cell_type": "code",
   "execution_count": 48,
   "id": "e2fd86e3",
   "metadata": {},
   "outputs": [
    {
     "name": "stdout",
     "output_type": "stream",
     "text": [
      "22/12/24 23:13:13 WARN CSVHeaderChecker: CSV header does not conform to the schema.\n",
      " Header: , goalTime, x, y, type, spId, spGrade, spLevel, spIdType, assist, assistSpId, assistX, assistY, hitPost, inPenalty, result, id, name, season, 포지션, 골 결정력, 슛 파워, 중거리 슛, 위치 선정, 발리 슛, 페널티 킥, 프리킥, 커브, 볼 컨트롤, 밸런스, 헤더, 점프, 침착성\n",
      " Schema: _c0, goalTime, x, y, type, spId, spGrade, spLevel, spIdType, assist, assistSpId, assistX, assistY, hitPost, inPenalty, result, id, name, season, 포지션, 골 결정력, 슛 파워, 중거리 슛, 위치 선정, 발리 슛, 페널티 킥, 프리킥, 커브, 볼 컨트롤, 밸런스, 헤더, 점프, 침착성\n",
      "Expected: _c0 but found: \n",
      "CSV file: file:///home/mobile/Desktop/data/final_df.csv\n"
     ]
    },
    {
     "name": "stderr",
     "output_type": "stream",
     "text": [
      "[Stage 65:>                                                         (0 + 1) / 1]\r"
     ]
    },
    {
     "name": "stdout",
     "output_type": "stream",
     "text": [
      "+---+--------+------------------+-------------------+----+---------+-------+-------+--------+------+----------+------------------+------------------+-------+---------+------+------------+-----------------+--------------------+------+---------+-------+---------+---------+-------+---------+------+-----+---------+------+------+---------+-------+-------------+--------------------+--------------------+----------+\n",
      "|_c0|goalTime|                 x|                  y|type|     spId|spGrade|spLevel|spIdType|assist|assistSpId|           assistX|           assistY|hitPost|inPenalty|result|          id|             name|              season|포지션|골 결정력|슛 파워|중거리 슛|위치 선정|발리 슛|페널티 킥|프리킥| 커브|볼 컨트롤|밸런스|침착성|점핑 헤더|overall|     features|       rawPrediction|         probability|prediction|\n",
      "+---+--------+------------------+-------------------+----+---------+-------+-------+--------+------+----------+------------------+------------------+-------+---------+------+------------+-----------------+--------------------+------+---------+-------+---------+---------+-------+---------+------+-----+---------+------+------+---------+-------+-------------+--------------------+--------------------+----------+\n",
      "|  3|     852|0.9047306180000301|   0.54314124584198|   6|257243061|      6|      5|    true|  true| 247165889|0.8283905982971191| 0.439917653799057|  false|     true|     1|2.57243061E8|           이동준|    21 K-League Best|    RW|    103.0|   97.0|     87.0|    106.0|   87.0|     87.0|  83.0| 91.0|     98.0| 104.0|  96.0|     91.5| 1130.5| [6.0,1130.5]|[0.51860280044418...|[0.62682099632918...|       0.0|\n",
      "|  7|50332596| 0.933114230632782| 0.5186775922775269|   6|225140057|      6|      5|    true| false|        -1|               0.5|               0.5|  false|     true|     0|2.25140057E8|           차두리|       TEAM K LEAGUE|    RB|     84.0|   93.0|     89.0|     92.0|   81.0|     82.0|  66.0| 72.0|     88.0| 107.0|  91.0|     81.5| 1026.5| [6.0,1026.5]|[0.67541871681435...|[0.66271543667182...|       0.0|\n",
      "| 10|    2536|0.7825442552566528|  0.579077422618866|   2|268166120|      5|      5|    true|  true| 268191189|0.8178725838661194|0.6071608066558838|  false|    false|     0| 2.6816612E8|안드레아스 브레메|   LEGENDARY NUMBERS|   LWB|     83.0|  107.0|    106.0|     96.0|   88.0|    109.0| 106.0|107.0|    101.0| 105.0|  99.0|     98.5| 1205.5| [2.0,1205.5]|[0.82819077582231...|[0.69597224304008...|       0.0|\n",
      "| 13|50332421|0.8989494442939758| 0.4990663528442383|   9|101009676|      5|      5|    true| false|        -1|               0.5|               0.5|  false|     true|     1|1.01009676E8|      사뮈엘 에토|                ICON|    ST|    118.0|  108.0|    110.0|    116.0|  112.0|    113.0| 109.0|114.0|    108.0| 113.0| 118.0|    104.0| 1343.0| [9.0,1343.0]|[-0.1188216188248...|[0.47032949585720...|       1.0|\n",
      "| 18|    1826|0.8938829898834229| 0.3624725639820099|   6|268166120|      5|      5|    true|  true| 214181872| 0.484495997428894| 0.643072247505188|  false|     true|     0| 2.6816612E8|안드레아스 브레메|   LEGENDARY NUMBERS|   LWB|     83.0|  107.0|    106.0|     96.0|   88.0|    109.0| 106.0|107.0|    101.0| 105.0|  99.0|     98.5| 1205.5| [6.0,1205.5]|[0.40551439921568...|[0.60001182980749...|       0.0|\n",
      "| 21|    2859|0.9061447381973268| 0.4200977087020874|   6|246181458|      8|      5|    true|  true| 268191189|  0.83338725566864|0.6302862167358398|  false|     true|     0|2.46181458E8|    이반 페리시치|      Unsung Players|    LW|     93.0|  102.0|    100.0|     97.0|   90.0|     91.0|  91.0|101.0|     94.0| 101.0|  94.0|     90.0| 1144.0| [6.0,1144.0]|[0.49824688822305...|[0.62204725506538...|       0.0|\n",
      "| 24|16778605|   0.8685262799263|  0.571386992931366|   2|268262271|      5|      5|    true|  true| 101009676|0.8570861220359799|0.4199886322021484|  false|     true|     0|2.68262271E8|        D. 밀리토|   LEGENDARY NUMBERS|    ST|    112.0|  106.0|    105.0|    111.0|  106.0|    109.0|  95.0|102.0|    110.0| 107.0| 109.0|    105.0| 1277.0| [2.0,1277.0]|[0.72037983331782...|[0.67269065346955...|       0.0|\n",
      "| 27|    2300|0.9356893301010132|0.37808671593665993|   6|258200104|      5|      5|    true|  true| 225242881|0.9490640163421632|0.1981679052114487|  false|     true|     1|2.58200104E8|           손흥민| 22 Team Of The Year|    LM|    111.0|  111.0|    110.0|    113.0|  104.0|     93.0|  95.0|112.0|    106.0| 110.0| 107.0|     90.5| 1262.5| [6.0,1262.5]|[0.31956721428202...|[0.57921877533341...|       0.0|\n",
      "| 28|16778235|0.7959088087081899| 0.6597846150398254|   1|257221467|      6|      5|    true|  true| 252138161|0.7225172519683838|0.5134955644607544|  false|    false|     1|2.57221467E8|           이창민|    21 K-League Best|    CM|     93.0|  104.0|    103.0|     93.0|   83.0|     81.0| 101.0| 94.0|    104.0| 104.0| 104.0|     93.5| 1157.5| [1.0,1157.5]|[1.00623644676021...|[0.73228297018642...|       0.0|\n",
      "| 29|16778796|0.7894821763038635| 0.3878458738327026|  10|225140053|      6|      5|    true|  true| 257221467|0.7115001082420349|0.6299233436584473|  false|    false|     0|2.25140053E8|           유상철|       TEAM K LEAGUE|    CM|     99.0|  100.0|    101.0|     99.0|   95.0|     96.0|  90.0| 95.0|     97.0| 103.0|  96.0|    101.5| 1172.5|[10.0,1172.5]|[0.03259691914958...|[0.50814850827751...|       0.0|\n",
      "| 32|16779486| 0.920497715473175| 0.4285473525524139|   7|247191980|      6|      5|    true| false|        -1|               0.5|               0.5|  false|     true|     0| 2.4719198E8|           윤석영|             2012 KH|    LB|     74.0|   87.0|     89.0|     88.0|   79.0|     72.0|  89.0| 95.0|     97.0|  92.0|  92.0|     96.5| 1050.5| [7.0,1050.5]|[0.53356133426958...|[0.63031335291631...|       0.0|\n",
      "| 43|    2620| 0.914367139339447| 0.5710906982421875|   6|268262271|      5|      5|    true|  true| 268166120|0.9254166483879088|  0.25003907084465|  false|     true|     0|2.68262271E8|        D. 밀리토|   LEGENDARY NUMBERS|    ST|    112.0|  106.0|    105.0|    111.0|  106.0|    109.0|  95.0|102.0|    110.0| 107.0| 109.0|    105.0| 1277.0| [6.0,1277.0]|[0.29770345671118...|[0.57388101196821...|       0.0|\n",
      "| 51|    2388|0.8925520777702332| 0.6358836889266968|   1|101009676|      5|      5|    true|  true| 268262271|0.2674290239810944|0.4955232739448547|  false|     true|     0|1.01009676E8|      사뮈엘 에토|                ICON|    ST|    118.0|  108.0|    110.0|    116.0|  112.0|    113.0| 109.0|114.0|    108.0| 113.0| 118.0|    104.0| 1343.0| [1.0,1343.0]|[0.72653113438840...|[0.67404359280060...|       0.0|\n",
      "| 56|16779798|0.9155129790306092|   0.46660965681076|   6|268262271|      5|      5|    true|  true| 101009676|0.8909848928451538|0.6399350762367249|  false|     true|     1|2.68262271E8|        D. 밀리토|   LEGENDARY NUMBERS|    ST|    112.0|  106.0|    105.0|    111.0|  106.0|    109.0|  95.0|102.0|    110.0| 107.0| 109.0|    105.0| 1277.0| [6.0,1277.0]|[0.29770345671118...|[0.57388101196821...|       0.0|\n",
      "| 58|50331856|0.9178428649902344| 0.5095393061637878|   2|101009676|      5|      5|    true|  true| 268262271|0.9316192865371701|0.6511523723602295|  false|     true|     1|1.01009676E8|      사뮈엘 에토|                ICON|    ST|    118.0|  108.0|    110.0|    116.0|  112.0|    113.0| 109.0|114.0|    108.0| 113.0| 118.0|    104.0| 1343.0| [2.0,1343.0]|[0.62086204023674...|[0.65041458076999...|       0.0|\n",
      "| 61|     701|0.8575210571289062| 0.5161117911338801|   6|101009676|      5|      5|    true|  true| 246181458|0.6905760765075684|0.3466950058937073|  false|     true|     0|1.01009676E8|      사뮈엘 에토|                ICON|    ST|    118.0|  108.0|    110.0|    116.0|  112.0|    113.0| 109.0|114.0|    108.0| 113.0| 118.0|    104.0| 1343.0| [6.0,1343.0]|[0.19818566363011...|[0.54938487850829...|       0.0|\n",
      "| 65|16778785|0.9399373531341552| 0.6251745820045471|   6|101009676|      5|      5|    true|  true| 268191189|0.8334277868270874|0.5425208210945129|  false|     true|     1|1.01009676E8|      사뮈엘 에토|                ICON|    ST|    118.0|  108.0|    110.0|    116.0|  112.0|    113.0| 109.0|114.0|    108.0| 113.0| 118.0|    104.0| 1343.0| [6.0,1343.0]|[0.19818566363011...|[0.54938487850829...|       0.0|\n",
      "| 67|16779698|0.8255709409713745| 0.5423036813735962|   8|268166120|      5|      5|    true|  true| 246181458|0.7999764084815979|  0.69851142168045|  false|    false|     0| 2.6816612E8|안드레아스 브레메|   LEGENDARY NUMBERS|   LWB|     83.0|  107.0|    106.0|     96.0|   88.0|    109.0| 106.0|107.0|    101.0| 105.0|  99.0|     98.5| 1205.5| [8.0,1205.5]|[0.19417621091236...|[0.54839209860093...|       0.0|\n",
      "| 73|16779112|0.7994610667228699| 0.4727006256580353|   1|251013743|      7|      5|    true|  true| 246208333|0.6999667286872864|0.5305219292640686|  false|    false|     1|2.51013743E8|    스티븐 제라드| European Best Stars|    CM|     98.0|  110.0|    110.0|    103.0|  102.0|    105.0| 105.0|106.0|    107.0| 102.0| 100.0|     99.0| 1247.0| [1.0,1247.0]|[0.87128428796087...|[0.70501286132050...|       0.0|\n",
      "| 75|     311|0.9366127848625184| 0.6768192052841187|   2|267209331|      5|      5|    true|  true| 251013743| 0.444936603307724|0.4614252150058746|  false|     true|     0|2.67209331E8|    모하메드 살라|22 Team Of The Se...|    RW|    115.0|  109.0|    104.0|    114.0|  110.0|    113.0|  93.0|112.0|    106.0| 114.0| 108.0|     86.5| 1284.5| [2.0,1284.5]|[0.70907099319497...|[0.67019585077860...|       0.0|\n",
      "+---+--------+------------------+-------------------+----+---------+-------+-------+--------+------+----------+------------------+------------------+-------+---------+------+------------+-----------------+--------------------+------+---------+-------+---------+---------+-------+---------+------+-----+---------+------+------+---------+-------+-------------+--------------------+--------------------+----------+\n",
      "only showing top 20 rows\n",
      "\n"
     ]
    },
    {
     "name": "stderr",
     "output_type": "stream",
     "text": [
      "                                                                                \r"
     ]
    }
   ],
   "source": [
    "lr_predict = lrModel.transform(test_df)\n",
    "\n",
    "lr_predict.show()"
   ]
  },
  {
   "cell_type": "code",
   "execution_count": 49,
   "id": "66aa8a45",
   "metadata": {
    "scrolled": true
   },
   "outputs": [
    {
     "name": "stdout",
     "output_type": "stream",
     "text": [
      "22/12/24 23:13:21 WARN CSVHeaderChecker: CSV header does not conform to the schema.\n",
      " Header: , goalTime, x, y, type, spId, spGrade, spLevel, spIdType, assist, assistSpId, assistX, assistY, hitPost, inPenalty, result, id, name, season, 포지션, 골 결정력, 슛 파워, 중거리 슛, 위치 선정, 발리 슛, 페널티 킥, 프리킥, 커브, 볼 컨트롤, 밸런스, 헤더, 점프, 침착성\n",
      " Schema: _c0, goalTime, x, y, type, spId, spGrade, spLevel, spIdType, assist, assistSpId, assistX, assistY, hitPost, inPenalty, result, id, name, season, 포지션, 골 결정력, 슛 파워, 중거리 슛, 위치 선정, 발리 슛, 페널티 킥, 프리킥, 커브, 볼 컨트롤, 밸런스, 헤더, 점프, 침착성\n",
      "Expected: _c0 but found: \n",
      "CSV file: file:///home/mobile/Desktop/data/final_df.csv\n"
     ]
    },
    {
     "name": "stderr",
     "output_type": "stream",
     "text": [
      "                                                                                \r"
     ]
    },
    {
     "name": "stdout",
     "output_type": "stream",
     "text": [
      "22/12/24 23:13:30 WARN CSVHeaderChecker: CSV header does not conform to the schema.\n",
      " Header: , goalTime, x, y, type, spId, spGrade, spLevel, spIdType, assist, assistSpId, assistX, assistY, hitPost, inPenalty, result, id, name, season, 포지션, 골 결정력, 슛 파워, 중거리 슛, 위치 선정, 발리 슛, 페널티 킥, 프리킥, 커브, 볼 컨트롤, 밸런스, 헤더, 점프, 침착성\n",
      " Schema: _c0, goalTime, x, y, type, spId, spGrade, spLevel, spIdType, assist, assistSpId, assistX, assistY, hitPost, inPenalty, result, id, name, season, 포지션, 골 결정력, 슛 파워, 중거리 슛, 위치 선정, 발리 슛, 페널티 킥, 프리킥, 커브, 볼 컨트롤, 밸런스, 헤더, 점프, 침착성\n",
      "Expected: _c0 but found: \n",
      "CSV file: file:///home/mobile/Desktop/data/final_df.csv\n"
     ]
    },
    {
     "name": "stderr",
     "output_type": "stream",
     "text": [
      "IOPub data rate exceeded.                                                       \n",
      "The notebook server will temporarily stop sending output\n",
      "to the client in order to avoid crashing it.\n",
      "To change this limit, set the config variable\n",
      "`--NotebookApp.iopub_data_rate_limit`.\n",
      "\n",
      "Current values:\n",
      "NotebookApp.iopub_data_rate_limit=1000000.0 (bytes/sec)\n",
      "NotebookApp.rate_limit_window=3.0 (secs)\n",
      "\n"
     ]
    }
   ],
   "source": [
    "lr_predict.select( 'prediction','result',\n",
    "        'features').show(lr_predict.count())"
   ]
  },
  {
   "cell_type": "code",
   "execution_count": 50,
   "id": "0d91f7b2",
   "metadata": {
    "scrolled": true
   },
   "outputs": [
    {
     "name": "stdout",
     "output_type": "stream",
     "text": [
      "기울기(w) [0.10566909415165864,0.0015078453497132634]\n",
      "절편(b) -2.857236533204976\n"
     ]
    }
   ],
   "source": [
    "print(\"기울기(w)\",lrModel.coefficients )\n",
    "print(\"절편(b)\", lrModel.intercept )"
   ]
  },
  {
   "cell_type": "code",
   "execution_count": 51,
   "id": "f49592f9",
   "metadata": {},
   "outputs": [
    {
     "name": "stdout",
     "output_type": "stream",
     "text": [
      "22/12/24 23:13:47 WARN CSVHeaderChecker: CSV header does not conform to the schema.\n",
      " Header: , goalTime, x, y, type, spId, spGrade, spLevel, spIdType, assist, assistSpId, assistX, assistY, hitPost, inPenalty, result, id, name, season, 포지션, 골 결정력, 슛 파워, 중거리 슛, 위치 선정, 발리 슛, 페널티 킥, 프리킥, 커브, 볼 컨트롤, 밸런스, 헤더, 점프, 침착성\n",
      " Schema: _c0, goalTime, x, y, type, spId, spGrade, spLevel, spIdType, assist, assistSpId, assistX, assistY, hitPost, inPenalty, result, id, name, season, 포지션, 골 결정력, 슛 파워, 중거리 슛, 위치 선정, 발리 슛, 페널티 킥, 프리킥, 커브, 볼 컨트롤, 밸런스, 헤더, 점프, 침착성\n",
      "Expected: _c0 but found: \n",
      "CSV file: file:///home/mobile/Desktop/data/final_df.csv\n"
     ]
    },
    {
     "name": "stderr",
     "output_type": "stream",
     "text": [
      "[Stage 71:=============================>                            (1 + 1) / 2]\r"
     ]
    },
    {
     "name": "stdout",
     "output_type": "stream",
     "text": [
      "0.6557206473803953\n"
     ]
    },
    {
     "name": "stderr",
     "output_type": "stream",
     "text": [
      "                                                                                \r"
     ]
    }
   ],
   "source": [
    "evaluator = MulticlassClassificationEvaluator(\n",
    " labelCol=\"result\",  predictionCol=\"prediction\",\n",
    "    metricName=\"accuracy\")\n",
    "print(evaluator.evaluate(lr_predict))"
   ]
  },
  {
   "cell_type": "code",
   "execution_count": null,
   "id": "29639790",
   "metadata": {},
   "outputs": [],
   "source": []
  },
  {
   "cell_type": "code",
   "execution_count": null,
   "id": "540e4f63",
   "metadata": {},
   "outputs": [],
   "source": []
  },
  {
   "cell_type": "code",
   "execution_count": null,
   "id": "1d290d31",
   "metadata": {},
   "outputs": [],
   "source": []
  },
  {
   "cell_type": "code",
   "execution_count": null,
   "id": "348baa87",
   "metadata": {},
   "outputs": [],
   "source": []
  }
 ],
 "metadata": {
  "kernelspec": {
   "display_name": "Python 3 (ipykernel)",
   "language": "python",
   "name": "python3"
  },
  "language_info": {
   "codemirror_mode": {
    "name": "ipython",
    "version": 3
   },
   "file_extension": ".py",
   "mimetype": "text/x-python",
   "name": "python",
   "nbconvert_exporter": "python",
   "pygments_lexer": "ipython3",
   "version": "3.9.13"
  }
 },
 "nbformat": 4,
 "nbformat_minor": 5
}
