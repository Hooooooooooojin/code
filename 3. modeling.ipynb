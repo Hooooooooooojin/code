{
 "cells": [
  {
   "attachments": {},
   "cell_type": "markdown",
   "metadata": {},
   "source": [
    "### 1. 라이브러리 호출 및 데이터 불러오기"
   ]
  },
  {
   "cell_type": "code",
   "execution_count": 1,
   "metadata": {},
   "outputs": [],
   "source": [
    "import pandas as pd\n",
    "from tqdm import tqdm\n",
    "import numpy as np"
   ]
  },
  {
   "cell_type": "code",
   "execution_count": 2,
   "metadata": {},
   "outputs": [
    {
     "data": {
      "text/html": [
       "<div>\n",
       "<style scoped>\n",
       "    .dataframe tbody tr th:only-of-type {\n",
       "        vertical-align: middle;\n",
       "    }\n",
       "\n",
       "    .dataframe tbody tr th {\n",
       "        vertical-align: top;\n",
       "    }\n",
       "\n",
       "    .dataframe thead th {\n",
       "        text-align: right;\n",
       "    }\n",
       "</style>\n",
       "<table border=\"1\" class=\"dataframe\">\n",
       "  <thead>\n",
       "    <tr style=\"text-align: right;\">\n",
       "      <th></th>\n",
       "      <th>goalTime</th>\n",
       "      <th>x</th>\n",
       "      <th>y</th>\n",
       "      <th>type</th>\n",
       "      <th>spId</th>\n",
       "      <th>spGrade</th>\n",
       "      <th>spLevel</th>\n",
       "      <th>spIdType</th>\n",
       "      <th>assist</th>\n",
       "      <th>assistSpId</th>\n",
       "      <th>...</th>\n",
       "      <th>위치 선정</th>\n",
       "      <th>발리 슛</th>\n",
       "      <th>페널티 킥</th>\n",
       "      <th>프리킥</th>\n",
       "      <th>커브</th>\n",
       "      <th>볼 컨트롤</th>\n",
       "      <th>밸런스</th>\n",
       "      <th>헤더</th>\n",
       "      <th>점프</th>\n",
       "      <th>침착성</th>\n",
       "    </tr>\n",
       "  </thead>\n",
       "  <tbody>\n",
       "    <tr>\n",
       "      <th>0</th>\n",
       "      <td>1883</td>\n",
       "      <td>0.922118</td>\n",
       "      <td>0.396405</td>\n",
       "      <td>6</td>\n",
       "      <td>257243061</td>\n",
       "      <td>6</td>\n",
       "      <td>5</td>\n",
       "      <td>True</td>\n",
       "      <td>True</td>\n",
       "      <td>225242881</td>\n",
       "      <td>...</td>\n",
       "      <td>106.0</td>\n",
       "      <td>87.0</td>\n",
       "      <td>87.0</td>\n",
       "      <td>83.0</td>\n",
       "      <td>91.0</td>\n",
       "      <td>98.0</td>\n",
       "      <td>104.0</td>\n",
       "      <td>88.0</td>\n",
       "      <td>95.0</td>\n",
       "      <td>96.0</td>\n",
       "    </tr>\n",
       "    <tr>\n",
       "      <th>1</th>\n",
       "      <td>2853</td>\n",
       "      <td>0.934114</td>\n",
       "      <td>0.578460</td>\n",
       "      <td>6</td>\n",
       "      <td>247165889</td>\n",
       "      <td>6</td>\n",
       "      <td>5</td>\n",
       "      <td>True</td>\n",
       "      <td>True</td>\n",
       "      <td>225199231</td>\n",
       "      <td>...</td>\n",
       "      <td>108.0</td>\n",
       "      <td>99.0</td>\n",
       "      <td>102.0</td>\n",
       "      <td>105.0</td>\n",
       "      <td>108.0</td>\n",
       "      <td>101.0</td>\n",
       "      <td>100.0</td>\n",
       "      <td>95.0</td>\n",
       "      <td>107.0</td>\n",
       "      <td>102.0</td>\n",
       "    </tr>\n",
       "    <tr>\n",
       "      <th>2</th>\n",
       "      <td>16778137</td>\n",
       "      <td>0.896395</td>\n",
       "      <td>0.379427</td>\n",
       "      <td>6</td>\n",
       "      <td>257243061</td>\n",
       "      <td>6</td>\n",
       "      <td>5</td>\n",
       "      <td>True</td>\n",
       "      <td>True</td>\n",
       "      <td>225242881</td>\n",
       "      <td>...</td>\n",
       "      <td>106.0</td>\n",
       "      <td>87.0</td>\n",
       "      <td>87.0</td>\n",
       "      <td>83.0</td>\n",
       "      <td>91.0</td>\n",
       "      <td>98.0</td>\n",
       "      <td>104.0</td>\n",
       "      <td>88.0</td>\n",
       "      <td>95.0</td>\n",
       "      <td>96.0</td>\n",
       "    </tr>\n",
       "    <tr>\n",
       "      <th>3</th>\n",
       "      <td>852</td>\n",
       "      <td>0.904731</td>\n",
       "      <td>0.543141</td>\n",
       "      <td>6</td>\n",
       "      <td>257243061</td>\n",
       "      <td>6</td>\n",
       "      <td>5</td>\n",
       "      <td>True</td>\n",
       "      <td>True</td>\n",
       "      <td>247165889</td>\n",
       "      <td>...</td>\n",
       "      <td>106.0</td>\n",
       "      <td>87.0</td>\n",
       "      <td>87.0</td>\n",
       "      <td>83.0</td>\n",
       "      <td>91.0</td>\n",
       "      <td>98.0</td>\n",
       "      <td>104.0</td>\n",
       "      <td>88.0</td>\n",
       "      <td>95.0</td>\n",
       "      <td>96.0</td>\n",
       "    </tr>\n",
       "    <tr>\n",
       "      <th>4</th>\n",
       "      <td>16780164</td>\n",
       "      <td>0.864648</td>\n",
       "      <td>0.498410</td>\n",
       "      <td>6</td>\n",
       "      <td>225242881</td>\n",
       "      <td>6</td>\n",
       "      <td>5</td>\n",
       "      <td>True</td>\n",
       "      <td>True</td>\n",
       "      <td>247199266</td>\n",
       "      <td>...</td>\n",
       "      <td>101.0</td>\n",
       "      <td>94.0</td>\n",
       "      <td>96.0</td>\n",
       "      <td>91.0</td>\n",
       "      <td>94.0</td>\n",
       "      <td>100.0</td>\n",
       "      <td>107.0</td>\n",
       "      <td>93.0</td>\n",
       "      <td>84.0</td>\n",
       "      <td>93.0</td>\n",
       "    </tr>\n",
       "  </tbody>\n",
       "</table>\n",
       "<p>5 rows × 32 columns</p>\n",
       "</div>"
      ],
      "text/plain": [
       "   goalTime         x         y  type       spId  spGrade  spLevel  spIdType  \\\n",
       "0      1883  0.922118  0.396405     6  257243061        6        5      True   \n",
       "1      2853  0.934114  0.578460     6  247165889        6        5      True   \n",
       "2  16778137  0.896395  0.379427     6  257243061        6        5      True   \n",
       "3       852  0.904731  0.543141     6  257243061        6        5      True   \n",
       "4  16780164  0.864648  0.498410     6  225242881        6        5      True   \n",
       "\n",
       "   assist  assistSpId  ...  위치 선정  발리 슛  페널티 킥    프리킥     커브  볼 컨트롤    밸런스  \\\n",
       "0    True   225242881  ...  106.0  87.0   87.0   83.0   91.0   98.0  104.0   \n",
       "1    True   225199231  ...  108.0  99.0  102.0  105.0  108.0  101.0  100.0   \n",
       "2    True   225242881  ...  106.0  87.0   87.0   83.0   91.0   98.0  104.0   \n",
       "3    True   247165889  ...  106.0  87.0   87.0   83.0   91.0   98.0  104.0   \n",
       "4    True   247199266  ...  101.0  94.0   96.0   91.0   94.0  100.0  107.0   \n",
       "\n",
       "     헤더     점프    침착성  \n",
       "0  88.0   95.0   96.0  \n",
       "1  95.0  107.0  102.0  \n",
       "2  88.0   95.0   96.0  \n",
       "3  88.0   95.0   96.0  \n",
       "4  93.0   84.0   93.0  \n",
       "\n",
       "[5 rows x 32 columns]"
      ]
     },
     "execution_count": 2,
     "metadata": {},
     "output_type": "execute_result"
    }
   ],
   "source": [
    "final_df = pd.read_csv(\"C:/Users/thoma/Desktop/호진/t_academy/ml프로젝트/데이터/final_df.csv\",index_col=0)\n",
    "\n",
    "final_df.head()"
   ]
  },
  {
   "attachments": {},
   "cell_type": "markdown",
   "metadata": {},
   "source": [
    "### 2. 데이터 전처리"
   ]
  },
  {
   "attachments": {},
   "cell_type": "markdown",
   "metadata": {},
   "source": [
    "##### 2-1. 추가 컬럼 생성"
   ]
  },
  {
   "cell_type": "code",
   "execution_count": 3,
   "metadata": {},
   "outputs": [],
   "source": [
    "final_df['점핑 헤더'] = (final_df['헤더'] + final_df['점프'])/2\n",
    "\n",
    "final_df['distance'] = np.sqrt((final_df['x'] - 1)**2 + (final_df['y'] - 0.5)**2)"
   ]
  },
  {
   "cell_type": "code",
   "execution_count": 4,
   "metadata": {},
   "outputs": [],
   "source": [
    "final_df = final_df.dropna()\n",
    "\n",
    "final_df = final_df.drop(['점프', '헤더'], axis = 1)\n",
    "\n",
    "final_df = final_df.drop(['goalTime','id','spGrade','spId','spLevel','spIdType','name','season','assistSpId','assist','assistX', 'assistY','hitPost','inPenalty'],axis=1)"
   ]
  },
  {
   "attachments": {},
   "cell_type": "markdown",
   "metadata": {},
   "source": [
    "##### 2-2. 삼진분류 => 이진분류"
   ]
  },
  {
   "cell_type": "code",
   "execution_count": 5,
   "metadata": {},
   "outputs": [],
   "source": [
    "# 삼진분류\n",
    "\n",
    "# final_df['result'] = final_df['result'].replace(1, 1) # 유효슛 1 => 1\n",
    "# final_df['result'] = final_df['result'].replace(2, 2) # 똥슛 2 => 2\n",
    "# final_df['result'] = final_df['result'].replace(3, 0) # 골 0 => 0 \n",
    "\n",
    "# 이진분류\n",
    "\n",
    "final_df['result'] = final_df['result'].replace(1 and 2, 0) # No Goal\n",
    "final_df['result'] = final_df['result'].replace(3, 1) # Goal"
   ]
  },
  {
   "attachments": {},
   "cell_type": "markdown",
   "metadata": {},
   "source": [
    "##### 2-3. 컬럼 순서 조정"
   ]
  },
  {
   "cell_type": "code",
   "execution_count": 6,
   "metadata": {},
   "outputs": [],
   "source": [
    "final_df = final_df[['result','distance','x', 'y', 'type', '포지션', '골 결정력', '슛 파워', '중거리 슛',\n",
    "       '위치 선정', '발리 슛', '페널티 킥', '프리킥', '커브', '볼 컨트롤', '밸런스', '점핑 헤더',\n",
    "       '침착성']]"
   ]
  },
  {
   "attachments": {},
   "cell_type": "markdown",
   "metadata": {},
   "source": [
    "##### 2-4. 상관관계 확인"
   ]
  },
  {
   "cell_type": "code",
   "execution_count": 7,
   "metadata": {},
   "outputs": [
    {
     "name": "stderr",
     "output_type": "stream",
     "text": [
      "C:\\Users\\thoma\\AppData\\Local\\Temp\\ipykernel_24384\\2626907977.py:1: FutureWarning: The default value of numeric_only in DataFrame.corr is deprecated. In a future version, it will default to False. Select only valid columns or specify the value of numeric_only to silence this warning.\n",
      "  final_df.corr()\n"
     ]
    },
    {
     "data": {
      "text/html": [
       "<div>\n",
       "<style scoped>\n",
       "    .dataframe tbody tr th:only-of-type {\n",
       "        vertical-align: middle;\n",
       "    }\n",
       "\n",
       "    .dataframe tbody tr th {\n",
       "        vertical-align: top;\n",
       "    }\n",
       "\n",
       "    .dataframe thead th {\n",
       "        text-align: right;\n",
       "    }\n",
       "</style>\n",
       "<table border=\"1\" class=\"dataframe\">\n",
       "  <thead>\n",
       "    <tr style=\"text-align: right;\">\n",
       "      <th></th>\n",
       "      <th>result</th>\n",
       "      <th>distance</th>\n",
       "      <th>x</th>\n",
       "      <th>y</th>\n",
       "      <th>type</th>\n",
       "      <th>골 결정력</th>\n",
       "      <th>슛 파워</th>\n",
       "      <th>중거리 슛</th>\n",
       "      <th>위치 선정</th>\n",
       "      <th>발리 슛</th>\n",
       "      <th>페널티 킥</th>\n",
       "      <th>프리킥</th>\n",
       "      <th>커브</th>\n",
       "      <th>볼 컨트롤</th>\n",
       "      <th>밸런스</th>\n",
       "      <th>점핑 헤더</th>\n",
       "      <th>침착성</th>\n",
       "    </tr>\n",
       "  </thead>\n",
       "  <tbody>\n",
       "    <tr>\n",
       "      <th>result</th>\n",
       "      <td>1.000000</td>\n",
       "      <td>-0.123286</td>\n",
       "      <td>0.090597</td>\n",
       "      <td>0.016104</td>\n",
       "      <td>0.092349</td>\n",
       "      <td>0.068129</td>\n",
       "      <td>0.041152</td>\n",
       "      <td>0.050897</td>\n",
       "      <td>0.060621</td>\n",
       "      <td>0.058874</td>\n",
       "      <td>0.047797</td>\n",
       "      <td>0.026160</td>\n",
       "      <td>0.038202</td>\n",
       "      <td>0.027533</td>\n",
       "      <td>0.023438</td>\n",
       "      <td>0.008762</td>\n",
       "      <td>0.027506</td>\n",
       "    </tr>\n",
       "    <tr>\n",
       "      <th>distance</th>\n",
       "      <td>-0.123286</td>\n",
       "      <td>1.000000</td>\n",
       "      <td>-0.817509</td>\n",
       "      <td>0.032359</td>\n",
       "      <td>-0.232308</td>\n",
       "      <td>-0.061201</td>\n",
       "      <td>0.075172</td>\n",
       "      <td>0.124970</td>\n",
       "      <td>-0.037108</td>\n",
       "      <td>-0.035053</td>\n",
       "      <td>0.007494</td>\n",
       "      <td>0.115165</td>\n",
       "      <td>0.076691</td>\n",
       "      <td>0.051251</td>\n",
       "      <td>0.004465</td>\n",
       "      <td>-0.094890</td>\n",
       "      <td>-0.001169</td>\n",
       "    </tr>\n",
       "    <tr>\n",
       "      <th>x</th>\n",
       "      <td>0.090597</td>\n",
       "      <td>-0.817509</td>\n",
       "      <td>1.000000</td>\n",
       "      <td>-0.026321</td>\n",
       "      <td>0.252300</td>\n",
       "      <td>0.061364</td>\n",
       "      <td>-0.096167</td>\n",
       "      <td>-0.147432</td>\n",
       "      <td>0.034888</td>\n",
       "      <td>0.019973</td>\n",
       "      <td>-0.025918</td>\n",
       "      <td>-0.132561</td>\n",
       "      <td>-0.086477</td>\n",
       "      <td>-0.075638</td>\n",
       "      <td>-0.004945</td>\n",
       "      <td>0.059317</td>\n",
       "      <td>-0.024345</td>\n",
       "    </tr>\n",
       "    <tr>\n",
       "      <th>y</th>\n",
       "      <td>0.016104</td>\n",
       "      <td>0.032359</td>\n",
       "      <td>-0.026321</td>\n",
       "      <td>1.000000</td>\n",
       "      <td>-0.007024</td>\n",
       "      <td>0.006069</td>\n",
       "      <td>0.015253</td>\n",
       "      <td>0.011889</td>\n",
       "      <td>-0.000820</td>\n",
       "      <td>0.001748</td>\n",
       "      <td>0.010679</td>\n",
       "      <td>-0.004549</td>\n",
       "      <td>-0.026839</td>\n",
       "      <td>0.004915</td>\n",
       "      <td>-0.001451</td>\n",
       "      <td>0.007565</td>\n",
       "      <td>0.002868</td>\n",
       "    </tr>\n",
       "    <tr>\n",
       "      <th>type</th>\n",
       "      <td>0.092349</td>\n",
       "      <td>-0.232308</td>\n",
       "      <td>0.252300</td>\n",
       "      <td>-0.007024</td>\n",
       "      <td>1.000000</td>\n",
       "      <td>0.038372</td>\n",
       "      <td>-0.003653</td>\n",
       "      <td>-0.015542</td>\n",
       "      <td>0.030597</td>\n",
       "      <td>0.031957</td>\n",
       "      <td>0.024734</td>\n",
       "      <td>-0.004480</td>\n",
       "      <td>0.001976</td>\n",
       "      <td>-0.005706</td>\n",
       "      <td>0.012115</td>\n",
       "      <td>0.024485</td>\n",
       "      <td>0.006834</td>\n",
       "    </tr>\n",
       "    <tr>\n",
       "      <th>골 결정력</th>\n",
       "      <td>0.068129</td>\n",
       "      <td>-0.061201</td>\n",
       "      <td>0.061364</td>\n",
       "      <td>0.006069</td>\n",
       "      <td>0.038372</td>\n",
       "      <td>1.000000</td>\n",
       "      <td>0.576039</td>\n",
       "      <td>0.517116</td>\n",
       "      <td>0.852147</td>\n",
       "      <td>0.810190</td>\n",
       "      <td>0.653668</td>\n",
       "      <td>0.302715</td>\n",
       "      <td>0.488945</td>\n",
       "      <td>0.480384</td>\n",
       "      <td>0.485567</td>\n",
       "      <td>0.329588</td>\n",
       "      <td>0.564464</td>\n",
       "    </tr>\n",
       "    <tr>\n",
       "      <th>슛 파워</th>\n",
       "      <td>0.041152</td>\n",
       "      <td>0.075172</td>\n",
       "      <td>-0.096167</td>\n",
       "      <td>0.015253</td>\n",
       "      <td>-0.003653</td>\n",
       "      <td>0.576039</td>\n",
       "      <td>1.000000</td>\n",
       "      <td>0.782777</td>\n",
       "      <td>0.609901</td>\n",
       "      <td>0.655411</td>\n",
       "      <td>0.567512</td>\n",
       "      <td>0.496151</td>\n",
       "      <td>0.590555</td>\n",
       "      <td>0.565256</td>\n",
       "      <td>0.427916</td>\n",
       "      <td>0.340066</td>\n",
       "      <td>0.542680</td>\n",
       "    </tr>\n",
       "    <tr>\n",
       "      <th>중거리 슛</th>\n",
       "      <td>0.050897</td>\n",
       "      <td>0.124970</td>\n",
       "      <td>-0.147432</td>\n",
       "      <td>0.011889</td>\n",
       "      <td>-0.015542</td>\n",
       "      <td>0.517116</td>\n",
       "      <td>0.782777</td>\n",
       "      <td>1.000000</td>\n",
       "      <td>0.551576</td>\n",
       "      <td>0.581345</td>\n",
       "      <td>0.562787</td>\n",
       "      <td>0.647347</td>\n",
       "      <td>0.640832</td>\n",
       "      <td>0.571419</td>\n",
       "      <td>0.385008</td>\n",
       "      <td>0.142120</td>\n",
       "      <td>0.472724</td>\n",
       "    </tr>\n",
       "    <tr>\n",
       "      <th>위치 선정</th>\n",
       "      <td>0.060621</td>\n",
       "      <td>-0.037108</td>\n",
       "      <td>0.034888</td>\n",
       "      <td>-0.000820</td>\n",
       "      <td>0.030597</td>\n",
       "      <td>0.852147</td>\n",
       "      <td>0.609901</td>\n",
       "      <td>0.551576</td>\n",
       "      <td>1.000000</td>\n",
       "      <td>0.794044</td>\n",
       "      <td>0.602794</td>\n",
       "      <td>0.331161</td>\n",
       "      <td>0.615021</td>\n",
       "      <td>0.530124</td>\n",
       "      <td>0.473238</td>\n",
       "      <td>0.316731</td>\n",
       "      <td>0.589387</td>\n",
       "    </tr>\n",
       "    <tr>\n",
       "      <th>발리 슛</th>\n",
       "      <td>0.058874</td>\n",
       "      <td>-0.035053</td>\n",
       "      <td>0.019973</td>\n",
       "      <td>0.001748</td>\n",
       "      <td>0.031957</td>\n",
       "      <td>0.810190</td>\n",
       "      <td>0.655411</td>\n",
       "      <td>0.581345</td>\n",
       "      <td>0.794044</td>\n",
       "      <td>1.000000</td>\n",
       "      <td>0.712494</td>\n",
       "      <td>0.422803</td>\n",
       "      <td>0.609686</td>\n",
       "      <td>0.568518</td>\n",
       "      <td>0.466587</td>\n",
       "      <td>0.386953</td>\n",
       "      <td>0.622752</td>\n",
       "    </tr>\n",
       "    <tr>\n",
       "      <th>페널티 킥</th>\n",
       "      <td>0.047797</td>\n",
       "      <td>0.007494</td>\n",
       "      <td>-0.025918</td>\n",
       "      <td>0.010679</td>\n",
       "      <td>0.024734</td>\n",
       "      <td>0.653668</td>\n",
       "      <td>0.567512</td>\n",
       "      <td>0.562787</td>\n",
       "      <td>0.602794</td>\n",
       "      <td>0.712494</td>\n",
       "      <td>1.000000</td>\n",
       "      <td>0.602033</td>\n",
       "      <td>0.516313</td>\n",
       "      <td>0.545443</td>\n",
       "      <td>0.414097</td>\n",
       "      <td>0.370279</td>\n",
       "      <td>0.565420</td>\n",
       "    </tr>\n",
       "    <tr>\n",
       "      <th>프리킥</th>\n",
       "      <td>0.026160</td>\n",
       "      <td>0.115165</td>\n",
       "      <td>-0.132561</td>\n",
       "      <td>-0.004549</td>\n",
       "      <td>-0.004480</td>\n",
       "      <td>0.302715</td>\n",
       "      <td>0.496151</td>\n",
       "      <td>0.647347</td>\n",
       "      <td>0.331161</td>\n",
       "      <td>0.422803</td>\n",
       "      <td>0.602033</td>\n",
       "      <td>1.000000</td>\n",
       "      <td>0.651356</td>\n",
       "      <td>0.532382</td>\n",
       "      <td>0.357292</td>\n",
       "      <td>0.099808</td>\n",
       "      <td>0.453850</td>\n",
       "    </tr>\n",
       "    <tr>\n",
       "      <th>커브</th>\n",
       "      <td>0.038202</td>\n",
       "      <td>0.076691</td>\n",
       "      <td>-0.086477</td>\n",
       "      <td>-0.026839</td>\n",
       "      <td>0.001976</td>\n",
       "      <td>0.488945</td>\n",
       "      <td>0.590555</td>\n",
       "      <td>0.640832</td>\n",
       "      <td>0.615021</td>\n",
       "      <td>0.609686</td>\n",
       "      <td>0.516313</td>\n",
       "      <td>0.651356</td>\n",
       "      <td>1.000000</td>\n",
       "      <td>0.623537</td>\n",
       "      <td>0.444726</td>\n",
       "      <td>0.086374</td>\n",
       "      <td>0.575837</td>\n",
       "    </tr>\n",
       "    <tr>\n",
       "      <th>볼 컨트롤</th>\n",
       "      <td>0.027533</td>\n",
       "      <td>0.051251</td>\n",
       "      <td>-0.075638</td>\n",
       "      <td>0.004915</td>\n",
       "      <td>-0.005706</td>\n",
       "      <td>0.480384</td>\n",
       "      <td>0.565256</td>\n",
       "      <td>0.571419</td>\n",
       "      <td>0.530124</td>\n",
       "      <td>0.568518</td>\n",
       "      <td>0.545443</td>\n",
       "      <td>0.532382</td>\n",
       "      <td>0.623537</td>\n",
       "      <td>1.000000</td>\n",
       "      <td>0.587166</td>\n",
       "      <td>0.248146</td>\n",
       "      <td>0.747825</td>\n",
       "    </tr>\n",
       "    <tr>\n",
       "      <th>밸런스</th>\n",
       "      <td>0.023438</td>\n",
       "      <td>0.004465</td>\n",
       "      <td>-0.004945</td>\n",
       "      <td>-0.001451</td>\n",
       "      <td>0.012115</td>\n",
       "      <td>0.485567</td>\n",
       "      <td>0.427916</td>\n",
       "      <td>0.385008</td>\n",
       "      <td>0.473238</td>\n",
       "      <td>0.466587</td>\n",
       "      <td>0.414097</td>\n",
       "      <td>0.357292</td>\n",
       "      <td>0.444726</td>\n",
       "      <td>0.587166</td>\n",
       "      <td>1.000000</td>\n",
       "      <td>0.224036</td>\n",
       "      <td>0.609119</td>\n",
       "    </tr>\n",
       "    <tr>\n",
       "      <th>점핑 헤더</th>\n",
       "      <td>0.008762</td>\n",
       "      <td>-0.094890</td>\n",
       "      <td>0.059317</td>\n",
       "      <td>0.007565</td>\n",
       "      <td>0.024485</td>\n",
       "      <td>0.329588</td>\n",
       "      <td>0.340066</td>\n",
       "      <td>0.142120</td>\n",
       "      <td>0.316731</td>\n",
       "      <td>0.386953</td>\n",
       "      <td>0.370279</td>\n",
       "      <td>0.099808</td>\n",
       "      <td>0.086374</td>\n",
       "      <td>0.248146</td>\n",
       "      <td>0.224036</td>\n",
       "      <td>1.000000</td>\n",
       "      <td>0.354709</td>\n",
       "    </tr>\n",
       "    <tr>\n",
       "      <th>침착성</th>\n",
       "      <td>0.027506</td>\n",
       "      <td>-0.001169</td>\n",
       "      <td>-0.024345</td>\n",
       "      <td>0.002868</td>\n",
       "      <td>0.006834</td>\n",
       "      <td>0.564464</td>\n",
       "      <td>0.542680</td>\n",
       "      <td>0.472724</td>\n",
       "      <td>0.589387</td>\n",
       "      <td>0.622752</td>\n",
       "      <td>0.565420</td>\n",
       "      <td>0.453850</td>\n",
       "      <td>0.575837</td>\n",
       "      <td>0.747825</td>\n",
       "      <td>0.609119</td>\n",
       "      <td>0.354709</td>\n",
       "      <td>1.000000</td>\n",
       "    </tr>\n",
       "  </tbody>\n",
       "</table>\n",
       "</div>"
      ],
      "text/plain": [
       "            result  distance         x         y      type     골 결정력  \\\n",
       "result    1.000000 -0.123286  0.090597  0.016104  0.092349  0.068129   \n",
       "distance -0.123286  1.000000 -0.817509  0.032359 -0.232308 -0.061201   \n",
       "x         0.090597 -0.817509  1.000000 -0.026321  0.252300  0.061364   \n",
       "y         0.016104  0.032359 -0.026321  1.000000 -0.007024  0.006069   \n",
       "type      0.092349 -0.232308  0.252300 -0.007024  1.000000  0.038372   \n",
       "골 결정력     0.068129 -0.061201  0.061364  0.006069  0.038372  1.000000   \n",
       "슛 파워      0.041152  0.075172 -0.096167  0.015253 -0.003653  0.576039   \n",
       "중거리 슛     0.050897  0.124970 -0.147432  0.011889 -0.015542  0.517116   \n",
       "위치 선정     0.060621 -0.037108  0.034888 -0.000820  0.030597  0.852147   \n",
       "발리 슛      0.058874 -0.035053  0.019973  0.001748  0.031957  0.810190   \n",
       "페널티 킥     0.047797  0.007494 -0.025918  0.010679  0.024734  0.653668   \n",
       "프리킥       0.026160  0.115165 -0.132561 -0.004549 -0.004480  0.302715   \n",
       "커브        0.038202  0.076691 -0.086477 -0.026839  0.001976  0.488945   \n",
       "볼 컨트롤     0.027533  0.051251 -0.075638  0.004915 -0.005706  0.480384   \n",
       "밸런스       0.023438  0.004465 -0.004945 -0.001451  0.012115  0.485567   \n",
       "점핑 헤더     0.008762 -0.094890  0.059317  0.007565  0.024485  0.329588   \n",
       "침착성       0.027506 -0.001169 -0.024345  0.002868  0.006834  0.564464   \n",
       "\n",
       "              슛 파워     중거리 슛     위치 선정      발리 슛     페널티 킥       프리킥  \\\n",
       "result    0.041152  0.050897  0.060621  0.058874  0.047797  0.026160   \n",
       "distance  0.075172  0.124970 -0.037108 -0.035053  0.007494  0.115165   \n",
       "x        -0.096167 -0.147432  0.034888  0.019973 -0.025918 -0.132561   \n",
       "y         0.015253  0.011889 -0.000820  0.001748  0.010679 -0.004549   \n",
       "type     -0.003653 -0.015542  0.030597  0.031957  0.024734 -0.004480   \n",
       "골 결정력     0.576039  0.517116  0.852147  0.810190  0.653668  0.302715   \n",
       "슛 파워      1.000000  0.782777  0.609901  0.655411  0.567512  0.496151   \n",
       "중거리 슛     0.782777  1.000000  0.551576  0.581345  0.562787  0.647347   \n",
       "위치 선정     0.609901  0.551576  1.000000  0.794044  0.602794  0.331161   \n",
       "발리 슛      0.655411  0.581345  0.794044  1.000000  0.712494  0.422803   \n",
       "페널티 킥     0.567512  0.562787  0.602794  0.712494  1.000000  0.602033   \n",
       "프리킥       0.496151  0.647347  0.331161  0.422803  0.602033  1.000000   \n",
       "커브        0.590555  0.640832  0.615021  0.609686  0.516313  0.651356   \n",
       "볼 컨트롤     0.565256  0.571419  0.530124  0.568518  0.545443  0.532382   \n",
       "밸런스       0.427916  0.385008  0.473238  0.466587  0.414097  0.357292   \n",
       "점핑 헤더     0.340066  0.142120  0.316731  0.386953  0.370279  0.099808   \n",
       "침착성       0.542680  0.472724  0.589387  0.622752  0.565420  0.453850   \n",
       "\n",
       "                커브     볼 컨트롤       밸런스     점핑 헤더       침착성  \n",
       "result    0.038202  0.027533  0.023438  0.008762  0.027506  \n",
       "distance  0.076691  0.051251  0.004465 -0.094890 -0.001169  \n",
       "x        -0.086477 -0.075638 -0.004945  0.059317 -0.024345  \n",
       "y        -0.026839  0.004915 -0.001451  0.007565  0.002868  \n",
       "type      0.001976 -0.005706  0.012115  0.024485  0.006834  \n",
       "골 결정력     0.488945  0.480384  0.485567  0.329588  0.564464  \n",
       "슛 파워      0.590555  0.565256  0.427916  0.340066  0.542680  \n",
       "중거리 슛     0.640832  0.571419  0.385008  0.142120  0.472724  \n",
       "위치 선정     0.615021  0.530124  0.473238  0.316731  0.589387  \n",
       "발리 슛      0.609686  0.568518  0.466587  0.386953  0.622752  \n",
       "페널티 킥     0.516313  0.545443  0.414097  0.370279  0.565420  \n",
       "프리킥       0.651356  0.532382  0.357292  0.099808  0.453850  \n",
       "커브        1.000000  0.623537  0.444726  0.086374  0.575837  \n",
       "볼 컨트롤     0.623537  1.000000  0.587166  0.248146  0.747825  \n",
       "밸런스       0.444726  0.587166  1.000000  0.224036  0.609119  \n",
       "점핑 헤더     0.086374  0.248146  0.224036  1.000000  0.354709  \n",
       "침착성       0.575837  0.747825  0.609119  0.354709  1.000000  "
      ]
     },
     "execution_count": 7,
     "metadata": {},
     "output_type": "execute_result"
    }
   ],
   "source": [
    "final_df.corr()"
   ]
  },
  {
   "cell_type": "markdown",
   "metadata": {},
   "source": [
    "##### 2-5. 타입 변환 및 더미 변수 생성"
   ]
  },
  {
   "cell_type": "code",
   "execution_count": 34,
   "metadata": {},
   "outputs": [],
   "source": [
    "from sklearn.preprocessing import MinMaxScaler, LabelEncoder"
   ]
  },
  {
   "cell_type": "code",
   "execution_count": 9,
   "metadata": {
    "scrolled": true
   },
   "outputs": [
    {
     "name": "stderr",
     "output_type": "stream",
     "text": [
      "C:\\Users\\thoma\\AppData\\Local\\Temp\\ipykernel_24384\\1068603448.py:5: FutureWarning: In a future version, the Index constructor will not infer numeric dtypes when passed object-dtype sequences (matching Series behavior)\n",
      "  final_df = pd.get_dummies(final_df)\n"
     ]
    }
   ],
   "source": [
    "change_type = ['type','포지션']\n",
    "\n",
    "final_df[change_type] = final_df[change_type].astype('object')\n",
    "\n",
    "final_df = pd.get_dummies(final_df)"
   ]
  },
  {
   "cell_type": "markdown",
   "metadata": {},
   "source": [
    "##### 2-5. 데이터셋 분리"
   ]
  },
  {
   "cell_type": "code",
   "execution_count": 10,
   "metadata": {},
   "outputs": [],
   "source": [
    "from sklearn.model_selection import train_test_split"
   ]
  },
  {
   "cell_type": "code",
   "execution_count": 11,
   "metadata": {},
   "outputs": [],
   "source": [
    "X_train, X_test, y_train, y_test = train_test_split(final_df.iloc[:,1:],\n",
    "                                                    final_df.iloc[:,0],\n",
    "                                                    test_size=0.3,\n",
    "                                                    stratify=final_df['result'],\n",
    "                                                    random_state=1004)\n",
    "\n",
    "X_test, X_val, y_test, y_val = train_test_split(X_test, y_test, test_size=0.3, stratify = y_test, random_state=1)"
   ]
  },
  {
   "attachments": {},
   "cell_type": "markdown",
   "metadata": {},
   "source": [
    "Train Set Scaling"
   ]
  },
  {
   "cell_type": "code",
   "execution_count": 12,
   "metadata": {},
   "outputs": [],
   "source": [
    "train_mm = MinMaxScaler()\n",
    "\n",
    "mm_list = ['골 결정력', '슛 파워', '중거리 슛',\n",
    "       '위치 선정', '발리 슛', '페널티 킥', '프리킥', '커브', '볼 컨트롤', '밸런스', '점핑 헤더',\n",
    "       '침착성']\n",
    "\n",
    "train_mm = train_mm.fit(X_train[mm_list])\n",
    "\n",
    "X_train[mm_list] = train_mm.transform(X_train[mm_list])"
   ]
  },
  {
   "attachments": {},
   "cell_type": "markdown",
   "metadata": {},
   "source": [
    "Train Set Scaler 저장"
   ]
  },
  {
   "cell_type": "code",
   "execution_count": 19,
   "metadata": {},
   "outputs": [],
   "source": [
    "import pickle\n",
    "from pickle import dump,load"
   ]
  },
  {
   "cell_type": "code",
   "execution_count": 17,
   "metadata": {},
   "outputs": [],
   "source": [
    "# 모델 저장\n",
    "# dump(train_mm, open('./train_scaler.pkl','wb'))\n",
    "\n",
    "# 모델 불러오기\n",
    "load_trainmm = pickle.load(open('./train_scaler.pkl', 'rb'))"
   ]
  },
  {
   "cell_type": "markdown",
   "metadata": {},
   "source": [
    "Test Set Scaling"
   ]
  },
  {
   "cell_type": "code",
   "execution_count": 18,
   "metadata": {},
   "outputs": [],
   "source": [
    "test_mm = MinMaxScaler()\n",
    "mm_list = ['골 결정력', '슛 파워', '중거리 슛',\n",
    "       '위치 선정', '발리 슛', '페널티 킥', '프리킥', '커브', '볼 컨트롤', '밸런스', '점핑 헤더',\n",
    "       '침착성']\n",
    "X_test[mm_list] = test_mm.fit_transform(X_test[mm_list])"
   ]
  },
  {
   "attachments": {},
   "cell_type": "markdown",
   "metadata": {},
   "source": [
    "Test Set Scaler 저장"
   ]
  },
  {
   "cell_type": "code",
   "execution_count": 21,
   "metadata": {},
   "outputs": [],
   "source": [
    "# 모델 저장\n",
    "# dump(test_mm, open('./test_scaler.pkl','wb'))\n",
    "\n",
    "# 모델 불러오기\n",
    "load_testmm = pickle.load(open('./test_scaler.pkl', 'rb'))"
   ]
  },
  {
   "attachments": {},
   "cell_type": "markdown",
   "metadata": {},
   "source": [
    "학습용 데이터 셋 클래스 균형성 확인"
   ]
  },
  {
   "cell_type": "code",
   "execution_count": 24,
   "metadata": {},
   "outputs": [],
   "source": [
    "\n",
    "from collections import Counter\n",
    "import matplotlib.pyplot as plt"
   ]
  },
  {
   "cell_type": "code",
   "execution_count": 25,
   "metadata": {},
   "outputs": [],
   "source": [
    "def count_and_plot(y): \n",
    "    counter = Counter(y)\n",
    "    for k,v in counter.items():\n",
    "        print('Class=%d, n=%d (%.3f%%)' % (k, v, v / len(y) * 100))\n",
    "    plt.bar(counter.keys(), counter.values())\n",
    "    plt.show()"
   ]
  },
  {
   "cell_type": "markdown",
   "metadata": {},
   "source": [
    "균형성 조정 전"
   ]
  },
  {
   "cell_type": "code",
   "execution_count": 26,
   "metadata": {},
   "outputs": [
    {
     "name": "stdout",
     "output_type": "stream",
     "text": [
      "Original dataset shape Counter({1: 333814, 0: 98920})\n"
     ]
    }
   ],
   "source": [
    "print('Original dataset shape %s' % Counter(y_train))"
   ]
  },
  {
   "attachments": {},
   "cell_type": "markdown",
   "metadata": {},
   "source": [
    "균형성 조정 후"
   ]
  },
  {
   "cell_type": "code",
   "execution_count": 27,
   "metadata": {},
   "outputs": [
    {
     "name": "stdout",
     "output_type": "stream",
     "text": [
      "Class=0, n=98920 (50.000%)\n",
      "Class=1, n=98920 (50.000%)\n"
     ]
    },
    {
     "data": {
      "image/png": "[encoded data removed]",
      "text/plain": [
       "<Figure size 640x480 with 1 Axes>"
      ]
     },
     "metadata": {},
     "output_type": "display_data"
    }
   ],
   "source": [
    "from imblearn.under_sampling import RandomUnderSampler\n",
    "X_resampled, y_resampled = RandomUnderSampler(random_state=0).fit_resample(X_train, y_train)\n",
    "count_and_plot(y_resampled)"
   ]
  },
  {
   "cell_type": "code",
   "execution_count": 28,
   "metadata": {},
   "outputs": [
    {
     "name": "stdout",
     "output_type": "stream",
     "text": [
      "Original dataset shape Counter({0: 98920, 1: 98920})\n"
     ]
    }
   ],
   "source": [
    "print('Original dataset shape %s' % Counter(y_resampled))"
   ]
  },
  {
   "attachments": {},
   "cell_type": "markdown",
   "metadata": {},
   "source": [
    "#### 3. 모델링"
   ]
  },
  {
   "attachments": {},
   "cell_type": "markdown",
   "metadata": {},
   "source": [
    "##### 3-1. 모델 생성 및 학습"
   ]
  },
  {
   "cell_type": "code",
   "execution_count": 29,
   "metadata": {},
   "outputs": [],
   "source": [
    "from xgboost import XGBClassifier\n",
    "\n",
    "XGB = XGBClassifier(booster='gbtree', n_estimators= 100, learning_rate=0.03, max_depth=10, subsample=0.7, colsample_bytree=0.7000000000000001, colsample_bylevel=0.865584471569699, colsample_bynode=0.8851539508192925, reg_alpha=0.01363225382508013, reg_lambda=0.05583158097593165, min_child_weight=4, gamma=0.10848813150330286)\n",
    "\n",
    "le = LabelEncoder()\n",
    "\n",
    "y_resampled = le.fit_transform(y_resampled)\n",
    "\n",
    "XGB.fit(X_resampled, y_resampled)\n",
    "\n",
    "# pred2_val = XGB.predict(X_val)\n",
    "\n",
    "# pred2_test = XGB.predict(X_test)"
   ]
  },
  {
   "attachments": {},
   "cell_type": "markdown",
   "metadata": {},
   "source": [
    "##### 3-2. 모델 저장"
   ]
  },
  {
   "cell_type": "code",
   "execution_count": 30,
   "metadata": {},
   "outputs": [],
   "source": [
    "# # 파일명\n",
    "filename = 'xgb_model.model'\n",
    "\n",
    "# # 모델 저장\n",
    "# pickle.dump(XGB, open(filename, 'wb'))\n",
    "\n",
    "# # 모델 불러오기\n",
    "xgb_model = pickle.load(open(filename, 'rb'))"
   ]
  },
  {
   "attachments": {},
   "cell_type": "markdown",
   "metadata": {},
   "source": [
    "##### 3-3. 성능 평가"
   ]
  },
  {
   "cell_type": "code",
   "execution_count": 31,
   "metadata": {},
   "outputs": [],
   "source": [
    "from sklearn.metrics import accuracy_score, precision_score, recall_score"
   ]
  },
  {
   "cell_type": "code",
   "execution_count": 32,
   "metadata": {},
   "outputs": [
    {
     "name": "stdout",
     "output_type": "stream",
     "text": [
      "Counter({1: 101160, 0: 96680}) Counter({0: 98920, 1: 98920})\n",
      "0.6601091791346543\n"
     ]
    }
   ],
   "source": [
    "pred2_train = xgb_model.predict(X_resampled)\n",
    "\n",
    "print(Counter(pred2_train), Counter(y_resampled))\n",
    "print(accuracy_score(y_resampled, pred2_train))"
   ]
  },
  {
   "cell_type": "code",
   "execution_count": 35,
   "metadata": {},
   "outputs": [
    {
     "name": "stdout",
     "output_type": "stream",
     "text": [
      "Accuracy Score of XGB Classifier =  0.6415113233708212\n",
      "precision_score of XGB Classifier =  0.5982093580667045\n",
      "recall_score of XGB Classifier =  0.6352100723980247\n"
     ]
    }
   ],
   "source": [
    "le = LabelEncoder()\n",
    "y_test = le.fit_transform(y_test)\n",
    "pred2_test = xgb_model.predict(X_test)\n",
    "\n",
    "print(\"Accuracy Score of XGB Classifier = \", accuracy_score(y_test, pred2_test))\n",
    "print(\"precision_score of XGB Classifier = \", precision_score(y_test, pred2_test, average='macro'))\n",
    "print(\"recall_score of XGB Classifier = \", recall_score(y_test, pred2_test, average='macro'))"
   ]
  },
  {
   "attachments": {},
   "cell_type": "markdown",
   "metadata": {},
   "source": [
    "#### 4. 이벤트 구현"
   ]
  },
  {
   "attachments": {},
   "cell_type": "markdown",
   "metadata": {},
   "source": [
    "1. 유저가 데이터 값 입력"
   ]
  },
  {
   "cell_type": "code",
   "execution_count": 55,
   "metadata": {},
   "outputs": [],
   "source": [
    "x = float(input())\n",
    "y = float(input())\n",
    "gd = int(input())\n",
    "sp = int(input())\n",
    "ms = int(input())\n",
    "ps = int(input())\n",
    "vs = int(input())\n",
    "pk = int(input())\n",
    "fk = int(input())\n",
    "cv = int(input())\n",
    "bc = int(input())\n",
    "blc = int(input())\n",
    "jh = int(input())\n",
    "clm = int(input())\n",
    "type = int(input())\n",
    "position= input()"
   ]
  },
  {
   "attachments": {},
   "cell_type": "markdown",
   "metadata": {},
   "source": [
    "2. 입력 값을 모델 input으로 넣기 위한 처리 과정"
   ]
  },
  {
   "cell_type": "code",
   "execution_count": 41,
   "metadata": {},
   "outputs": [],
   "source": [
    "def shooting(x,y,gd,sp,ms,ps,vs,pk,fk,cv,bc,blc,jh,clm,type,position):\n",
    "\n",
    "    import itertools\n",
    "\n",
    "    distance = np.sqrt((x - 1)**2 + (y - 0.5)**2)\n",
    "\n",
    "    transform_values = []\n",
    "\n",
    "    transform_values.append((train_mm.transform([[gd,sp,ms,ps,vs,pk,fk,cv,bc,blc,jh,clm]])).tolist()[0])\n",
    "\n",
    "    transform_values = list(itertools.chain(*transform_values))\n",
    "\n",
    "    transform_values.insert(0,distance)\n",
    "\n",
    "    transform_values.insert(1,x)\n",
    "\n",
    "    transform_values.insert(2,y)\n",
    "\n",
    "    transform_values.append(type)\n",
    "\n",
    "    transform_values.append(position)\n",
    "\n",
    "    return transform_values\n"
   ]
  },
  {
   "cell_type": "code",
   "execution_count": 57,
   "metadata": {},
   "outputs": [
    {
     "name": "stderr",
     "output_type": "stream",
     "text": [
      "c:\\Users\\thoma\\anaconda3\\envs\\t_academy\\lib\\site-packages\\sklearn\\base.py:409: UserWarning: X does not have valid feature names, but MinMaxScaler was fitted with feature names\n",
      "  warnings.warn(\n"
     ]
    },
    {
     "data": {
      "text/plain": [
       "[0.12083045973594572,\n",
       " 0.89,\n",
       " 0.55,\n",
       " 0.8333333333333333,\n",
       " 0.8061224489795918,\n",
       " 0.8288288288288288,\n",
       " 0.8125,\n",
       " 0.8571428571428572,\n",
       " 0.8217821782178217,\n",
       " 0.8288288288288288,\n",
       " 0.8214285714285714,\n",
       " 0.8080808080808082,\n",
       " 0.7407407407407407,\n",
       " 0.7908496732026143,\n",
       " 0.7468354430379748,\n",
       " 5,\n",
       " 'ST']"
      ]
     },
     "execution_count": 57,
     "metadata": {},
     "output_type": "execute_result"
    }
   ],
   "source": [
    "shooting(x,y,gd,sp,ms,ps,vs,pk,fk,cv,bc,blc,jh,clm,type,position)"
   ]
  },
  {
   "cell_type": "code",
   "execution_count": 52,
   "metadata": {},
   "outputs": [],
   "source": [
    "def shoot_predict(transform_values):\n",
    "\n",
    "    input_df = pd.DataFrame(columns=['distance', 'x', 'y', '골 결정력', '슛 파워', '중거리 슛', '위치 선정', '발리 슛',\n",
    "       '페널티 킥', '프리킥', '커브', '볼 컨트롤', '밸런스', '점핑 헤더', '침착성','type','포지션', 'type_1',\n",
    "       'type_2', 'type_3', 'type_4', 'type_5', 'type_6', 'type_7', 'type_8',\n",
    "       'type_9', 'type_10', '포지션_CAM', '포지션_CB', '포지션_CDM', '포지션_CF', '포지션_CM',\n",
    "       '포지션_GK', '포지션_LB', '포지션_LM', '포지션_LW', '포지션_LWB', '포지션_RB', '포지션_RF',\n",
    "       '포지션_RM', '포지션_RW', '포지션_RWB', '포지션_ST'])\n",
    "        \n",
    "    input_df = input_df.append(pd.Series(transform_values, index=['distance', 'x', 'y', '골 결정력', '슛 파워', '중거리 슛', '위치 선정', '발리 슛',\n",
    "        '페널티 킥', '프리킥', '커브', '볼 컨트롤', '밸런스', '점핑 헤더', '침착성','type','포지션']),ignore_index=True)\n",
    "\n",
    "    input_df.iloc[0,16+int(type)] = 1 # 슈팅 타입 dummy 셀프 생성\n",
    "    input_df.loc[0,'포지션_{}'.format(position)] = 1 # 포지션 dummy 셀프 생성\n",
    "    input_df = input_df.drop(['type','포지션'],axis=1)\n",
    "\n",
    "    input_df = input_df.fillna(0)\n",
    "\n",
    "    result = xgb_model.predict(input_df)[0]\n",
    "\n",
    "    if result == 0:\n",
    "\n",
    "        p = 'No Goal'\n",
    "\n",
    "    else:\n",
    "        p = 'Goal'\n",
    "\n",
    "    return result, p"
   ]
  },
  {
   "cell_type": "code",
   "execution_count": 58,
   "metadata": {},
   "outputs": [
    {
     "name": "stderr",
     "output_type": "stream",
     "text": [
      "C:\\Users\\thoma\\AppData\\Local\\Temp\\ipykernel_24384\\3823279719.py:10: FutureWarning: The frame.append method is deprecated and will be removed from pandas in a future version. Use pandas.concat instead.\n",
      "  input_df = input_df.append(pd.Series(transform_values, index=['distance', 'x', 'y', '골 결정력', '슛 파워', '중거리 슛', '위치 선정', '발리 슛',\n"
     ]
    },
    {
     "data": {
      "text/plain": [
       "(1, 'Goal')"
      ]
     },
     "execution_count": 58,
     "metadata": {},
     "output_type": "execute_result"
    }
   ],
   "source": [
    "shoot_predict(transform_values)"
   ]
  }
 ],
 "metadata": {
  "kernelspec": {
   "display_name": "t_academy",
   "language": "python",
   "name": "python3"
  },
  "language_info": {
   "codemirror_mode": {
    "name": "ipython",
    "version": 3
   },
   "file_extension": ".py",
   "mimetype": "text/x-python",
   "name": "python",
   "nbconvert_exporter": "python",
   "pygments_lexer": "ipython3",
   "version": "3.10.8"
  },
  "vscode": {
   "interpreter": {
    "hash": "050822da0265a2ede893b2e5a218ecba40703c5d8fd639a2141dfb5681f45c17"
   }
  }
 },
 "nbformat": 4,
 "nbformat_minor": 2
}
